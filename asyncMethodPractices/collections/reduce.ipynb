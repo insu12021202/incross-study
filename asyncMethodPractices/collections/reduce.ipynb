{
 "cells": [
  {
   "cell_type": "markdown",
   "metadata": {},
   "source": [
    "# async.reduce()\n",
    "- 반복적인 요소에 대해 비동기적으로 실행되는 reducer 함수를 적용해 단일 결과값을 생성하는 함수.\n",
    "## 사용 방법\n",
    "- async 모듈 불러오기\n",
    "- async.reduce(반복 대상, 초기값, 비동기 작업 함수, 콜백(선택))"
   ]
  },
  {
   "cell_type": "code",
   "execution_count": 2,
   "metadata": {},
   "outputs": [],
   "source": [
    "const async = require('async');"
   ]
  },
  {
   "cell_type": "markdown",
   "metadata": {},
   "source": [
    "--------------\n",
    "### 최종 콜백 함수를 사용하는 경우"
   ]
  },
  {
   "cell_type": "markdown",
   "metadata": {},
   "source": [
    "정상 작동 케이스\n",
    "- reduce 작업을 수행해야 하므로, 각 비동기 함수가 순차적으로 실행되어 결과값을 다음 비동기 함수의 input으로 넘겨준다."
   ]
  },
  {
   "cell_type": "code",
   "execution_count": 3,
   "metadata": {},
   "outputs": [
    {
     "name": "stdout",
     "output_type": "stream",
     "text": [
      "처리 중인 Item:  3\n"
     ]
    },
    {
     "name": "stdout",
     "output_type": "stream",
     "text": [
      "처리 완료된 Item:  3\n",
      "처리 중인 Item:  2\n",
      "처리 완료된 Item:  5\n",
      "처리 중인 Item:  1\n",
      "처리 완료된 Item:  6\n",
      "모든 항목 처리 완료 6\n"
     ]
    }
   ],
   "source": [
    "// 각 요소에 대해 수행할 비동기 작업\n",
    "function asyncFunction (memo, item, callback) {\n",
    "    console.log('처리 중인 Item: ', item);\n",
    "    setTimeout(() => {\n",
    "        let total = memo + item;\n",
    "        console.log('처리 완료된 Item: ', total);\n",
    "        callback(null, total); // 모든 item을 더하는 연산 수행\n",
    "    }, item * 1000);\n",
    "};\n",
    "\n",
    "// 최종 콜백(opt)\n",
    "function finalCallback (err, results) {\n",
    "    if (err) console.error('오류 발생', err);\n",
    "    else console.log('모든 항목 처리 완료', results);\n",
    "};\n",
    "\n",
    "async.reduce([3, 2, 1], 0, asyncFunction, finalCallback);"
   ]
  },
  {
   "cell_type": "markdown",
   "metadata": {},
   "source": [
    "반복 요소 중 콜백을 호출하지 않은 케이스"
   ]
  },
  {
   "cell_type": "code",
   "execution_count": 4,
   "metadata": {},
   "outputs": [
    {
     "name": "stdout",
     "output_type": "stream",
     "text": [
      "처리 중인 Item:  3\n"
     ]
    },
    {
     "name": "stdout",
     "output_type": "stream",
     "text": [
      "처리 완료된 Item:  3\n",
      "처리 중인 Item:  2\n",
      "처리 완료된 Item:  5\n"
     ]
    }
   ],
   "source": [
    "// 두 번째 요소에서 콜백이 호출되지 않아 다음 비동기 작업으로 이어지지 않는다.\n",
    "\n",
    "// 각 요소에 대해 수행할 비동기 작업\n",
    "function asyncFunction (memo, item, callback) {\n",
    "    console.log('처리 중인 Item: ', item);\n",
    "    setTimeout(() => {\n",
    "        let total = memo + item;\n",
    "        console.log('처리 완료된 Item: ', total);\n",
    "        if(item !== 2) callback(null, total); // 모든 item을 더하는 연산 수행\n",
    "        \n",
    "    }, item * 1000);\n",
    "};\n",
    "\n",
    "// 최종 콜백(opt)\n",
    "function finalCallback (err, results) {\n",
    "    if (err) console.error('오류 발생', err);\n",
    "    else console.log('모든 항목 처리 완료', results);\n",
    "};\n",
    "\n",
    "async.reduce([3, 2, 1], 0, asyncFunction, finalCallback);"
   ]
  },
  {
   "cell_type": "markdown",
   "metadata": {},
   "source": [
    "비동기 작업 중 에러를 발생시킨 케이스"
   ]
  },
  {
   "cell_type": "code",
   "execution_count": 5,
   "metadata": {},
   "outputs": [
    {
     "name": "stdout",
     "output_type": "stream",
     "text": [
      "처리 중인 Item:  3\n"
     ]
    },
    {
     "name": "stdout",
     "output_type": "stream",
     "text": [
      "처리 완료된 Item:  3\n",
      "처리 중인 Item:  2\n",
      "처리 완료된 Item:  5\n"
     ]
    },
    {
     "name": "stderr",
     "output_type": "stream",
     "text": [
      "오류 발생 메시지:  2에서 에러 발생\n"
     ]
    }
   ],
   "source": [
    "// 두 번째 요소에서 콜백으로 에러 처리를 하여, 최종 콜백에서 에러를 처리한다.\n",
    "// Promise Reject 후, 다음 비동기 작업은 진행되지 않는다.\n",
    "\n",
    "// 각 요소에 대해 수행할 비동기 작업\n",
    "function asyncFunction (memo, item, callback) {\n",
    "    console.log('처리 중인 Item: ', item);\n",
    "    setTimeout(() => {\n",
    "        let total = memo + item;\n",
    "        console.log('처리 완료된 Item: ', total);\n",
    "        if(item !== 2) callback(null, total);\n",
    "        else callback(`${item}에서 에러 발생`)\n",
    "        \n",
    "    }, item * 1000);\n",
    "};\n",
    "\n",
    "// 최종 콜백(opt)\n",
    "function finalCallback (err, results) {\n",
    "    if (err) console.error('오류 발생 메시지: ', err);\n",
    "    else console.log('모든 항목 처리 완료', results);\n",
    "};\n",
    "\n",
    "async.reduce([3, 2, 1], 0, asyncFunction, finalCallback);"
   ]
  },
  {
   "cell_type": "markdown",
   "metadata": {},
   "source": [
    "### 최종 콜백함수를 사용하지 않는 경우"
   ]
  },
  {
   "cell_type": "markdown",
   "metadata": {},
   "source": [
    "async/await 사용 "
   ]
  },
  {
   "cell_type": "code",
   "execution_count": 4,
   "metadata": {},
   "outputs": [
    {
     "name": "stdout",
     "output_type": "stream",
     "text": [
      "처리 중인 Item:  3\n"
     ]
    },
    {
     "data": {
      "text/plain": [
       "Promise { <pending> }"
      ]
     },
     "execution_count": 4,
     "metadata": {},
     "output_type": "execute_result"
    },
    {
     "name": "stdout",
     "output_type": "stream",
     "text": [
      "처리 완료된 Item:  3\n",
      "처리 중인 Item:  2\n",
      "처리 완료된 Item:  5\n",
      "처리 중인 Item:  1\n",
      "처리 완료된 Item:  6\n",
      "모든 작업 완료: 6\n"
     ]
    }
   ],
   "source": [
    "// 각 요소에 대해 수행할 비동기 작업\n",
    "function asyncFunction (memo, item, callback) {\n",
    "    console.log('처리 중인 Item: ', item);\n",
    "    setTimeout(() => {\n",
    "        let total = memo + item;\n",
    "        console.log('처리 완료된 Item: ', total);\n",
    "        callback(null, total);\n",
    "    }, item * 1000);\n",
    "};\n",
    "\n",
    "async function runReduceTasks(){\n",
    "    try{\n",
    "        const results = await async.reduce([3, 2, 1], 0, asyncFunction);\n",
    "        console.log('모든 작업 완료:', results);\n",
    "    } catch (err) {\n",
    "        console.log('에러 메시지:', err);\n",
    "    }\n",
    "}\n",
    "\n",
    "runReduceTasks();"
   ]
  },
  {
   "cell_type": "markdown",
   "metadata": {},
   "source": [
    "then/catch 사용 "
   ]
  },
  {
   "cell_type": "code",
   "execution_count": 7,
   "metadata": {},
   "outputs": [
    {
     "name": "stdout",
     "output_type": "stream",
     "text": [
      "처리 중인 Item:  3\n"
     ]
    },
    {
     "data": {
      "text/plain": [
       "Promise { <pending> }"
      ]
     },
     "execution_count": 7,
     "metadata": {},
     "output_type": "execute_result"
    },
    {
     "name": "stdout",
     "output_type": "stream",
     "text": [
      "처리 완료된 Item:  3\n",
      "처리 중인 Item:  2\n",
      "처리 완료된 Item:  5\n",
      "처리 중인 Item:  1\n",
      "처리 완료된 Item:  6\n",
      "모든 작업 완료: 6\n"
     ]
    }
   ],
   "source": [
    "// 각 요소에 대해 수행할 비동기 작업\n",
    "function asyncFunction (memo, item, callback) {\n",
    "    console.log('처리 중인 Item: ', item);\n",
    "    setTimeout(() => {\n",
    "        let total = memo + item;\n",
    "        console.log('처리 완료된 Item: ', total);\n",
    "        callback(null, total);\n",
    "    }, item * 1000);\n",
    "};\n",
    "\n",
    "async.reduce([3, 2, 1], 0, asyncFunction).then((result) => {\n",
    "    console.log('모든 작업 완료:', result);\n",
    "}).catch((err) => console.log('오류 메시지:', err));"
   ]
  }
 ],
 "metadata": {
  "kernelspec": {
   "display_name": "JavaScript (Node.js)",
   "language": "javascript",
   "name": "javascript"
  },
  "language_info": {
   "file_extension": ".js",
   "mimetype": "application/javascript",
   "name": "javascript",
   "version": "20.10.0"
  }
 },
 "nbformat": 4,
 "nbformat_minor": 2
}
