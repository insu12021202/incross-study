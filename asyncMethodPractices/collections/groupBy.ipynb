{
 "cells": [
  {
   "cell_type": "markdown",
   "metadata": {},
   "source": [
    "# async.groupBy()\n",
    "- 반복적인 요소에 대해 비동기 작업을 수행하고 결과를 그룹화하여 콜백받는 함수\n",
    "## 사용 방법\n",
    "- async 모듈 불러오기\n",
    "- async.groupBy(반복 대상, 비동기 작업 함수, 콜백(선택))"
   ]
  },
  {
   "cell_type": "code",
   "execution_count": 1,
   "metadata": {},
   "outputs": [],
   "source": [
    "const async = require('async');"
   ]
  },
  {
   "cell_type": "markdown",
   "metadata": {},
   "source": [
    "----------------\n",
    "### 최종 콜백 함수를 사용하는 경우"
   ]
  },
  {
   "cell_type": "markdown",
   "metadata": {},
   "source": [
    "정상 작동 케이스"
   ]
  },
  {
   "cell_type": "code",
   "execution_count": 3,
   "metadata": {},
   "outputs": [
    {
     "name": "stdout",
     "output_type": "stream",
     "text": [
      "처리 중인 Item:  4\n",
      "처리 중인 Item:  3\n",
      "처리 중인 Item:  2\n",
      "처리 중인 Item:  1\n"
     ]
    },
    {
     "name": "stdout",
     "output_type": "stream",
     "text": [
      "처리 완료된 Item:  1\n",
      "처리 완료된 Item:  2\n",
      "처리 완료된 Item:  3\n",
      "처리 완료된 Item:  4\n",
      "모든 항목 처리 완료 { even: [ 4, 2 ], odd: [ 3, 1 ] }\n"
     ]
    }
   ],
   "source": [
    "// 각 요소에 대해 수행할 비동기 작업\n",
    "function asyncFunction(item, callback) {\n",
    "    console.log('처리 중인 Item: ', item);\n",
    "    setTimeout(() => {\n",
    "        console.log('처리 완료된 Item: ', item);\n",
    "        // item의 홀짝 여부로 그룹화\n",
    "        callback(null, item % 2 === 0 ? 'even' : 'odd')\n",
    "    }, item * 1000);\n",
    "};\n",
    "\n",
    "// 최종 콜백\n",
    "function finalCallback (err, result) {\n",
    "    if (err) console.error('오류 발생', err);\n",
    "    else console.log('모든 항목 처리 완료', result);\n",
    "};\n",
    "\n",
    "async.groupBy([4, 3, 2, 1], asyncFunction, finalCallback);"
   ]
  },
  {
   "cell_type": "markdown",
   "metadata": {},
   "source": [
    "반복 요소 중 콜백을 호출하지 않은 케이스"
   ]
  },
  {
   "cell_type": "code",
   "execution_count": 4,
   "metadata": {},
   "outputs": [
    {
     "name": "stdout",
     "output_type": "stream",
     "text": [
      "처리 중인 Item:  4\n",
      "처리 중인 Item:  3\n",
      "처리 중인 Item:  2\n",
      "처리 중인 Item:  1\n"
     ]
    },
    {
     "name": "stdout",
     "output_type": "stream",
     "text": [
      "처리 완료된 Item:  1\n",
      "처리 완료된 Item:  2\n",
      "처리 완료된 Item:  3\n",
      "처리 완료된 Item:  4\n"
     ]
    }
   ],
   "source": [
    "// 두 번째 요소가 콜백을 호출하지 않아 최종 콜백도 호출되지 않는다.\n",
    "\n",
    "// 각 요소에 대해 수행할 비동기 작업\n",
    "function asyncFunction(item, callback) {\n",
    "    console.log('처리 중인 Item: ', item);\n",
    "    setTimeout(() => {\n",
    "        console.log('처리 완료된 Item: ', item);\n",
    "        // item이 2이면 콜백 호출 X\n",
    "        if(item !== 2) callback(null, item % 2 === 0 ? 'even' : 'odd')\n",
    "    }, item * 1000);\n",
    "};\n",
    "\n",
    "// 최종 콜백\n",
    "function finalCallback (err, result) {\n",
    "    if (err) console.error('오류 발생', err);\n",
    "    else console.log('모든 항목 처리 완료', result);\n",
    "};\n",
    "\n",
    "async.groupBy([4, 3, 2, 1], asyncFunction, finalCallback);"
   ]
  },
  {
   "cell_type": "markdown",
   "metadata": {},
   "source": [
    "비동기 작업 중 에러를 발생시킨 케이스"
   ]
  },
  {
   "cell_type": "code",
   "execution_count": 5,
   "metadata": {},
   "outputs": [
    {
     "name": "stdout",
     "output_type": "stream",
     "text": [
      "처리 중인 Item:  4\n",
      "처리 중인 Item:  3\n",
      "처리 중인 Item:  2\n",
      "처리 중인 Item:  1\n"
     ]
    },
    {
     "name": "stdout",
     "output_type": "stream",
     "text": [
      "처리 완료된 Item:  1\n",
      "처리 완료된 Item:  2\n"
     ]
    },
    {
     "name": "stderr",
     "output_type": "stream",
     "text": [
      "오류 발생 메시지:  2에서 에러 발생\n"
     ]
    },
    {
     "name": "stdout",
     "output_type": "stream",
     "text": [
      "처리 완료된 Item:  3\n",
      "처리 완료된 Item:  4\n"
     ]
    }
   ],
   "source": [
    "// 각 요소에 대해 수행할 비동기 작업\n",
    "function asyncFunction(item, callback) {\n",
    "    console.log('처리 중인 Item: ', item);\n",
    "    setTimeout(() => {\n",
    "        console.log('처리 완료된 Item: ', item);\n",
    "        // item이 2이면 콜백 호출 X\n",
    "        if(item !== 2) callback(null, item % 2 === 0 ? 'even' : 'odd')\n",
    "        else callback(`${item}에서 에러 발생`)\n",
    "    }, item * 1000);\n",
    "};\n",
    "\n",
    "// 최종 콜백\n",
    "function finalCallback (err, result) {\n",
    "    if (err) console.error('오류 발생 메시지: ', err);\n",
    "    else console.log('모든 항목 처리 완료', result);\n",
    "};\n",
    "\n",
    "async.groupBy([4, 3, 2, 1], asyncFunction, finalCallback);"
   ]
  },
  {
   "cell_type": "markdown",
   "metadata": {},
   "source": [
    "### 최종 콜백을 사용하지 않는 경우"
   ]
  },
  {
   "cell_type": "markdown",
   "metadata": {},
   "source": [
    "async/await 사용 "
   ]
  },
  {
   "cell_type": "code",
   "execution_count": 3,
   "metadata": {},
   "outputs": [
    {
     "name": "stdout",
     "output_type": "stream",
     "text": [
      "처리 중인 Item:  4\n",
      "처리 중인 Item:  3\n",
      "처리 중인 Item:  2\n",
      "처리 중인 Item:  1\n"
     ]
    },
    {
     "data": {
      "text/plain": [
       "Promise { <pending> }"
      ]
     },
     "execution_count": 3,
     "metadata": {},
     "output_type": "execute_result"
    },
    {
     "name": "stdout",
     "output_type": "stream",
     "text": [
      "처리 완료된 Item:  1\n",
      "처리 완료된 Item:  2\n",
      "처리 완료된 Item:  3\n",
      "처리 완료된 Item:  4\n",
      "모든 작업 완료: { even: [ 4, 2 ], odd: [ 3, 1 ] }\n"
     ]
    }
   ],
   "source": [
    "// 각 요소에 대해 수행할 비동기 작업\n",
    "function asyncFunction(item, callback) {\n",
    "    console.log('처리 중인 Item: ', item);\n",
    "    setTimeout(() => {\n",
    "        console.log('처리 완료된 Item: ', item);\n",
    "        callback(null, item % 2 === 0 ? 'even' : 'odd')\n",
    "    }, item * 1000);\n",
    "};\n",
    "\n",
    "async function runGroupByTasks(){\n",
    "    try{\n",
    "        const results = await async.groupBy([4, 3, 2, 1], asyncFunction);\n",
    "        console.log('모든 작업 완료:', results);\n",
    "    } catch (err) {\n",
    "        console.log('에러 메시지:', err);\n",
    "    }\n",
    "}\n",
    "\n",
    "runGroupByTasks();"
   ]
  },
  {
   "cell_type": "markdown",
   "metadata": {},
   "source": [
    "then/catch 사용 "
   ]
  },
  {
   "cell_type": "code",
   "execution_count": 4,
   "metadata": {},
   "outputs": [
    {
     "name": "stdout",
     "output_type": "stream",
     "text": [
      "처리 중인 Item:  4\n",
      "처리 중인 Item:  3\n",
      "처리 중인 Item:  2\n",
      "처리 중인 Item:  1\n"
     ]
    },
    {
     "data": {
      "text/plain": [
       "Promise { <pending> }"
      ]
     },
     "execution_count": 4,
     "metadata": {},
     "output_type": "execute_result"
    },
    {
     "name": "stdout",
     "output_type": "stream",
     "text": [
      "처리 완료된 Item:  1\n",
      "처리 완료된 Item:  2\n",
      "처리 완료된 Item:  3\n",
      "처리 완료된 Item:  4\n",
      "모든 작업 완료: { even: [ 4, 2 ], odd: [ 3, 1 ] }\n"
     ]
    }
   ],
   "source": [
    "// 각 요소에 대해 수행할 비동기 작업\n",
    "function asyncFunction(item, callback) {\n",
    "    console.log('처리 중인 Item: ', item);\n",
    "    setTimeout(() => {\n",
    "        console.log('처리 완료된 Item: ', item);\n",
    "        callback(null, item % 2 === 0 ? 'even' : 'odd')\n",
    "    }, item * 1000);\n",
    "};\n",
    "\n",
    "async.groupBy([4, 3, 2, 1], asyncFunction).then((results) => {\n",
    "    console.log('모든 작업 완료:', results);\n",
    "}).catch((err) => console.error('에러 메세지:', err));\n"
   ]
  }
 ],
 "metadata": {
  "kernelspec": {
   "display_name": "JavaScript (Node.js)",
   "language": "javascript",
   "name": "javascript"
  },
  "language_info": {
   "file_extension": ".js",
   "mimetype": "application/javascript",
   "name": "javascript",
   "version": "20.10.0"
  }
 },
 "nbformat": 4,
 "nbformat_minor": 2
}
