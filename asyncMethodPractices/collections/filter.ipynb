{
 "cells": [
  {
   "cell_type": "markdown",
   "metadata": {},
   "source": [
    "# async.filter()\n",
    "- 반복적인 요소에 대해 비동기적으로 테스트 함수를 실행하고, 그 결과가 참인 요소들로만 구성된 새로운 배열을 최종 콜백에 반환한다.\n",
    "## 사용 방법\n",
    "- async 모듈 불러오기\n",
    "- async.filter(반복 대상, 비동기 작업 함수, 콜백(선택))"
   ]
  },
  {
   "cell_type": "code",
   "execution_count": 3,
   "metadata": {},
   "outputs": [],
   "source": [
    "const async = require('async');"
   ]
  },
  {
   "cell_type": "markdown",
   "metadata": {},
   "source": [
    "----------------\n",
    "### 최종 콜백 함수를 사용하는 경우"
   ]
  },
  {
   "cell_type": "markdown",
   "metadata": {},
   "source": [
    "정상 작동 케이스"
   ]
  },
  {
   "cell_type": "code",
   "execution_count": 7,
   "metadata": {},
   "outputs": [
    {
     "name": "stdout",
     "output_type": "stream",
     "text": [
      "처리 중인 Item:  4\n",
      "처리 중인 Item:  3\n",
      "처리 중인 Item:  2\n",
      "처리 중인 Item:  1\n"
     ]
    },
    {
     "name": "stdout",
     "output_type": "stream",
     "text": [
      "처리 완료된 Item:  1\n",
      "처리 완료된 Item:  2\n",
      "처리 완료된 Item:  3\n",
      "처리 완료된 Item:  4\n",
      "조건을 만족하는 요소 [ 4, 3 ]\n"
     ]
    }
   ],
   "source": [
    "// 정상 작동하는 테스트 케이스\n",
    "// 모든 비동기 함수에서 콜백이 호출되어 최종 콜백이 정상적으로 호출된다.\n",
    "\n",
    "// 각 요소에 대해 수행할 비동기 작업\n",
    "function asyncFunction(item, callback) {\n",
    "    console.log('처리 중인 Item: ', item);\n",
    "    setTimeout(() => {\n",
    "        console.log('처리 완료된 Item: ', item);\n",
    "        callback(null, item > 2); // 2를 넘는 item을 결과 배열로 넘기기\n",
    "    }, item * 1000);\n",
    "};\n",
    "\n",
    "// 최종 콜백\n",
    "function finalCallback (err, result) {\n",
    "    if (err) console.error('오류 발생', err);\n",
    "    else console.log('조건을 만족하는 요소', result);\n",
    "};\n",
    "\n",
    "async.filter([4, 3, 2, 1], asyncFunction, finalCallback);"
   ]
  },
  {
   "cell_type": "markdown",
   "metadata": {},
   "source": [
    "반복 요소 중 콜백을 호출하지 않은 케이스"
   ]
  },
  {
   "cell_type": "code",
   "execution_count": 4,
   "metadata": {},
   "outputs": [
    {
     "name": "stdout",
     "output_type": "stream",
     "text": [
      "처리 중인 Item:  4\n",
      "처리 중인 Item:  3\n",
      "처리 중인 Item:  2\n",
      "처리 중인 Item:  1\n"
     ]
    },
    {
     "name": "stdout",
     "output_type": "stream",
     "text": [
      "처리 완료된 Item:  1\n",
      "처리 완료된 Item:  2\n",
      "처리 완료된 Item:  3\n",
      "처리 완료된 Item:  4\n"
     ]
    }
   ],
   "source": [
    "// 두 번째 요소가 콜백을 호출하지 않아 최종 콜백도 실행되지 않는다.\n",
    "\n",
    "// 각 요소에 대해 수행할 비동기 작업\n",
    "function asyncFunction(item, callback) {\n",
    "    console.log('처리 중인 Item: ', item);\n",
    "    setTimeout(() => {\n",
    "        console.log('처리 완료된 Item: ', item);\n",
    "        if(item !== 2) callback(null, item > 2); \n",
    "    }, item * 1000);\n",
    "};\n",
    "\n",
    "// 최종 콜백\n",
    "function finalCallback (err, result) {\n",
    "    if (err) console.error('오류 발생', err);\n",
    "    else console.log('조건을 만족하는 요소', result);\n",
    "};\n",
    "\n",
    "async.filter([4, 3, 2, 1], asyncFunction, finalCallback);"
   ]
  },
  {
   "cell_type": "markdown",
   "metadata": {},
   "source": [
    "비동기 작업 중 에러를 발생시킨 케이스"
   ]
  },
  {
   "cell_type": "code",
   "execution_count": 6,
   "metadata": {},
   "outputs": [
    {
     "name": "stdout",
     "output_type": "stream",
     "text": [
      "처리 중인 Item:  4\n",
      "처리 중인 Item:  3\n",
      "처리 중인 Item:  2\n",
      "처리 중인 Item:  1\n"
     ]
    },
    {
     "name": "stdout",
     "output_type": "stream",
     "text": [
      "처리 완료된 Item:  1\n",
      "처리 완료된 Item:  2\n"
     ]
    },
    {
     "name": "stderr",
     "output_type": "stream",
     "text": [
      "오류 메시지:  2에서 에러 발생\n"
     ]
    },
    {
     "name": "stdout",
     "output_type": "stream",
     "text": [
      "처리 완료된 Item:  3\n",
      "처리 완료된 Item:  4\n"
     ]
    }
   ],
   "source": [
    "// 비동기 작업 중 에러를 발생시키면, 에러가 최종 콜백으로 넘겨진다.\n",
    "\n",
    "// 각 요소에 대해 수행할 비동기 작업\n",
    "function asyncFunction(item, callback) {\n",
    "    console.log('처리 중인 Item: ', item);\n",
    "    setTimeout(() => {\n",
    "        console.log('처리 완료된 Item: ', item);\n",
    "        if(item === 2) callback(`${item}에서 에러 발생`); \n",
    "    }, item * 1000);\n",
    "};\n",
    "\n",
    "// 최종 콜백\n",
    "function finalCallback (err, result) {\n",
    "    if (err) console.error('오류 메시지: ', err);\n",
    "    else console.log('조건을 만족하는 요소', result);\n",
    "};\n",
    "\n",
    "async.filter([4, 3, 2, 1], asyncFunction, finalCallback);"
   ]
  },
  {
   "cell_type": "markdown",
   "metadata": {},
   "source": [
    "### 최종 콜백을 사용하지 않는 경우"
   ]
  },
  {
   "cell_type": "markdown",
   "metadata": {},
   "source": [
    "async/await 사용"
   ]
  },
  {
   "cell_type": "code",
   "execution_count": 4,
   "metadata": {},
   "outputs": [
    {
     "name": "stdout",
     "output_type": "stream",
     "text": [
      "처리 중인 Item:  4\n",
      "처리 중인 Item:  3\n",
      "처리 중인 Item:  2\n",
      "처리 중인 Item:  1\n"
     ]
    },
    {
     "data": {
      "text/plain": [
       "Promise { <pending> }"
      ]
     },
     "execution_count": 4,
     "metadata": {},
     "output_type": "execute_result"
    },
    {
     "name": "stdout",
     "output_type": "stream",
     "text": [
      "처리 완료된 Item:  1\n",
      "처리 완료된 Item:  2\n",
      "처리 완료된 Item:  3\n",
      "처리 완료된 Item:  4\n",
      "모든 작업 완료: [ 4, 3 ]\n"
     ]
    }
   ],
   "source": [
    "// 각 요소에 대해 수행할 비동기 작업\n",
    "function asyncFunction(item, callback) {\n",
    "    console.log('처리 중인 Item: ', item);\n",
    "    setTimeout(() => {\n",
    "        console.log('처리 완료된 Item: ', item);\n",
    "        callback(null, item > 2)\n",
    "    }, item * 1000);\n",
    "};\n",
    "\n",
    "async function runEachTasks(){\n",
    "    try{\n",
    "        const results = await async.filter([4, 3, 2, 1], asyncFunction);\n",
    "        console.log('모든 작업 완료:', results);\n",
    "    } catch (err) {\n",
    "        console.log('에러 메시지:', err);\n",
    "    }\n",
    "}\n",
    "\n",
    "runEachTasks();"
   ]
  },
  {
   "cell_type": "markdown",
   "metadata": {},
   "source": [
    "then/catch를 사용"
   ]
  },
  {
   "cell_type": "code",
   "execution_count": 6,
   "metadata": {},
   "outputs": [
    {
     "name": "stdout",
     "output_type": "stream",
     "text": [
      "처리 중인 Item:  4\n",
      "처리 중인 Item:  3\n",
      "처리 중인 Item:  2\n",
      "처리 중인 Item:  1\n"
     ]
    },
    {
     "data": {
      "text/plain": [
       "Promise { <pending> }"
      ]
     },
     "execution_count": 6,
     "metadata": {},
     "output_type": "execute_result"
    },
    {
     "name": "stdout",
     "output_type": "stream",
     "text": [
      "처리 완료된 Item:  1\n"
     ]
    },
    {
     "name": "stderr",
     "output_type": "stream",
     "text": [
      "오류 메시지: 에러 발생\n"
     ]
    },
    {
     "name": "stdout",
     "output_type": "stream",
     "text": [
      "처리 완료된 Item:  2\n",
      "처리 완료된 Item:  3\n",
      "처리 완료된 Item:  4\n"
     ]
    }
   ],
   "source": [
    "// 각 요소에 대해 수행할 비동기 작업\n",
    "function asyncFunction(item, callback) {\n",
    "    console.log('처리 중인 Item: ', item);\n",
    "    setTimeout(() => {\n",
    "        console.log('처리 완료된 Item: ', item);\n",
    "        callback(null, item > 2)\n",
    "    }, item * 1000);\n",
    "};\n",
    "\n",
    "async.filter([4, 3, 2, 1], asyncFunction).then((results) => {\n",
    "    console.log('모든 작업 완료:', results);\n",
    "}).catch((err) => console.error('오류 메시지:', err))"
   ]
  }
 ],
 "metadata": {
  "kernelspec": {
   "display_name": "JavaScript (Node.js)",
   "language": "javascript",
   "name": "javascript"
  },
  "language_info": {
   "file_extension": ".js",
   "mimetype": "application/javascript",
   "name": "javascript",
   "version": "20.10.0"
  }
 },
 "nbformat": 4,
 "nbformat_minor": 2
}
