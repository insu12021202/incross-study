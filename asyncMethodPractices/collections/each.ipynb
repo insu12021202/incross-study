{
 "cells": [
  {
   "cell_type": "markdown",
   "metadata": {},
   "source": [
    "# async.each()\n",
    "- 반복적인 요소에 대해 비동기 작업을 수행하고 콜백받는 메소드\n",
    "## 사용 방법\n",
    "- async 모듈 불러오기\n",
    "- async.each(반복 대상, 비동기 작업 함수, 콜백(선택))"
   ]
  },
  {
   "cell_type": "code",
   "execution_count": 1,
   "metadata": {},
   "outputs": [],
   "source": [
    "const async = require('async');"
   ]
  },
  {
   "cell_type": "markdown",
   "metadata": {},
   "source": [
    "--------------\n",
    "### 최종 콜백 함수를 사용하는 경우"
   ]
  },
  {
   "cell_type": "markdown",
   "metadata": {},
   "source": [
    "정상 작동 케이스"
   ]
  },
  {
   "cell_type": "code",
   "execution_count": 2,
   "metadata": {},
   "outputs": [
    {
     "name": "stdout",
     "output_type": "stream",
     "text": [
      "처리 중인 Item:  3\n",
      "처리 중인 Item:  2\n",
      "처리 중인 Item:  1\n"
     ]
    },
    {
     "name": "stdout",
     "output_type": "stream",
     "text": [
      "처리 완료된 Item:  1\n",
      "처리 완료된 Item:  2\n",
      "처리 완료된 Item:  3\n",
      "모든 항목 처리 완료\n"
     ]
    }
   ],
   "source": [
    "// 정상 작동하는 테스트 케이스\n",
    "// 모든 비동기 함수에서 콜백이 호출되어 최종 콜백이 정상적으로 호출된다.\n",
    "\n",
    "function asyncFunction(item, callback) {\n",
    "    console.log('처리 중인 Item: ', item);\n",
    "    setTimeout(()=>{\n",
    "        console.log('처리 완료된 Item: ', item);\n",
    "        callback(null); \n",
    "    }, item * 1000);\n",
    "}\n",
    "\n",
    "function finalCallback (err) {\n",
    "    if(err) console.error('오류 발생', err);\n",
    "    else console.log('모든 항목 처리 완료');\n",
    "}\n",
    "\n",
    "async.each([3, 2, 1], asyncFunction, finalCallback);"
   ]
  },
  {
   "cell_type": "markdown",
   "metadata": {},
   "source": [
    "반복 요소 중 콜백을 호출하지 않은 케이스"
   ]
  },
  {
   "cell_type": "code",
   "execution_count": 4,
   "metadata": {},
   "outputs": [
    {
     "name": "stdout",
     "output_type": "stream",
     "text": [
      "처리 중인 Item:  3\n",
      "처리 중인 Item:  2\n",
      "처리 중인 Item:  1\n"
     ]
    }
   ],
   "source": [
    "// 반복 요소 중 두 번째 요소만 콜백을 호출하지 않았을 때\n",
    "// 두 번째 요소가 콜백을 호출하지 않아 최종 콜백도 실행되지 않는다.\n",
    "\n",
    "function asyncFunction(item, callback) {\n",
    "    console.log('처리 중인 Item: ', item);\n",
    "    setTimeout(()=>{\n",
    "        console.log('처리 완료된 Item: ', item);\n",
    "        if(item !== 2) callback(null); \n",
    "    }, item * 1000);\n",
    "}\n",
    "\n",
    "function finalCallback (err) {\n",
    "    if(err) console.error('오류 발생', err);\n",
    "    else console.log('모든 항목 처리 완료');\n",
    "}\n",
    "\n",
    "async.each([3, 2, 1], asyncFunction, finalCallback);"
   ]
  },
  {
   "cell_type": "markdown",
   "metadata": {},
   "source": [
    "비동기 작업 중 에러를 발생시킨 케이스"
   ]
  },
  {
   "cell_type": "code",
   "execution_count": 3,
   "metadata": {},
   "outputs": [
    {
     "name": "stdout",
     "output_type": "stream",
     "text": [
      "처리 중인 Item:  3\n",
      "처리 중인 Item:  2\n",
      "처리 중인 Item:  1\n"
     ]
    },
    {
     "name": "stdout",
     "output_type": "stream",
     "text": [
      "처리 완료된 Item:  1\n",
      "처리 완료된 Item:  2\n"
     ]
    },
    {
     "name": "stderr",
     "output_type": "stream",
     "text": [
      "오류 메시지: 2에서 에러 발생\n"
     ]
    },
    {
     "name": "stdout",
     "output_type": "stream",
     "text": [
      "처리 완료된 Item:  3\n"
     ]
    }
   ],
   "source": [
    "// 비동기 작업 중 에러가 발생하는 케이스\n",
    "// 비동기 작업 중 에러를 발생시키면, 에러가 최종 콜백으로 넘겨진다.\n",
    "\n",
    "function asyncFunction(item, callback) {\n",
    "    console.log('처리 중인 Item: ', item);\n",
    "    setTimeout(()=>{\n",
    "        console.log('처리 완료된 Item: ', item);\n",
    "        if(item === 2) callback(`${item}에서 에러 발생`);\n",
    "        else callback(null);\n",
    "    }, item * 1000);\n",
    "}\n",
    "\n",
    "function finalCallback (err) {\n",
    "    if(err) console.error('오류 메시지:', err);\n",
    "    else console.log('모든 항목 처리 완료');\n",
    "}\n",
    "\n",
    "async.each([3, 2, 1], asyncFunction, finalCallback);"
   ]
  },
  {
   "cell_type": "markdown",
   "metadata": {},
   "source": [
    "### 최종 콜백함수를 사용하지 않는 경우"
   ]
  },
  {
   "cell_type": "markdown",
   "metadata": {},
   "source": [
    "async/await 사용"
   ]
  },
  {
   "cell_type": "code",
   "execution_count": 5,
   "metadata": {},
   "outputs": [
    {
     "name": "stdout",
     "output_type": "stream",
     "text": [
      "처리 중인 Item:  3\n",
      "처리 중인 Item:  2\n",
      "처리 중인 Item:  1\n"
     ]
    },
    {
     "data": {
      "text/plain": [
       "Promise { <pending> }"
      ]
     },
     "execution_count": 5,
     "metadata": {},
     "output_type": "execute_result"
    },
    {
     "name": "stdout",
     "output_type": "stream",
     "text": [
      "처리 완료된 Item:  1\n",
      "처리 완료된 Item:  2\n",
      "처리 완료된 Item:  3\n",
      "모든 작업 완료\n"
     ]
    }
   ],
   "source": [
    "function asyncFunction(item, callback) {\n",
    "    console.log('처리 중인 Item: ', item);\n",
    "    setTimeout(()=>{\n",
    "        console.log('처리 완료된 Item: ', item);\n",
    "        callback(null);\n",
    "    }, item * 1000);\n",
    "}\n",
    "\n",
    "async function runEachTasks(){\n",
    "    try{\n",
    "        await async.each([3, 2, 1], asyncFunction);\n",
    "        console.log('모든 작업 완료');\n",
    "    } catch (err) {\n",
    "        console.log('에러 메시지:', err);\n",
    "    }\n",
    "}\n",
    "\n",
    "runEachTasks();"
   ]
  },
  {
   "cell_type": "markdown",
   "metadata": {},
   "source": [
    "then/catch 사용"
   ]
  },
  {
   "cell_type": "code",
   "execution_count": 8,
   "metadata": {},
   "outputs": [
    {
     "name": "stdout",
     "output_type": "stream",
     "text": [
      "처리 중인 Item:  3\n",
      "처리 중인 Item:  2\n",
      "처리 중인 Item:  1\n"
     ]
    },
    {
     "data": {
      "text/plain": [
       "Promise { <pending> }"
      ]
     },
     "execution_count": 8,
     "metadata": {},
     "output_type": "execute_result"
    },
    {
     "name": "stdout",
     "output_type": "stream",
     "text": [
      "처리 완료된 Item:  1\n",
      "처리 완료된 Item:  2\n",
      "처리 완료된 Item:  3\n",
      "모든 작업 완료\n"
     ]
    }
   ],
   "source": [
    "function asyncFunction(item, callback) {\n",
    "    console.log('처리 중인 Item: ', item);\n",
    "    setTimeout(()=>{\n",
    "        console.log('처리 완료된 Item: ', item);\n",
    "        callback(null);\n",
    "    }, item * 1000);\n",
    "}\n",
    "\n",
    "async.each([3, 2, 1], asyncFunction).then(() => {\n",
    "    console.log('모든 작업 완료');\n",
    "}).catch((err) => console.error(err));"
   ]
  }
 ],
 "metadata": {
  "kernelspec": {
   "display_name": "JavaScript (Node.js)",
   "language": "javascript",
   "name": "javascript"
  },
  "language_info": {
   "file_extension": ".js",
   "mimetype": "application/javascript",
   "name": "javascript",
   "version": "20.10.0"
  }
 },
 "nbformat": 4,
 "nbformat_minor": 2
}
