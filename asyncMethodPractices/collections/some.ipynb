{
 "cells": [
  {
   "cell_type": "markdown",
   "metadata": {},
   "source": [
    "# async.some()\n",
    "- 반복적인 요소에 대해 비동기 테스트 작업을 수행하고, 주어진 조건을 만족하는 요소가 하나라도 있는 경우 즉시 'true' 반환, 만약 그렇지 않으면 'false' 반환하는 함수.\n",
    "## 사용 방법\n",
    "- async 모듈 불러오기\n",
    "- async.some(반복 대상, 비동기 작업 함수, 콜백(선택))"
   ]
  },
  {
   "cell_type": "code",
   "execution_count": 2,
   "metadata": {},
   "outputs": [],
   "source": [
    "const async = require('async');"
   ]
  },
  {
   "cell_type": "markdown",
   "metadata": {},
   "source": [
    "--------------\n",
    "### 최종 콜백 함수를 사용하는 경우"
   ]
  },
  {
   "cell_type": "markdown",
   "metadata": {},
   "source": [
    "정상 작동 케이스"
   ]
  },
  {
   "cell_type": "code",
   "execution_count": 4,
   "metadata": {},
   "outputs": [
    {
     "name": "stdout",
     "output_type": "stream",
     "text": [
      "처리 중인 Item:  3\n",
      "처리 중인 Item:  2\n",
      "처리 중인 Item:  1\n"
     ]
    },
    {
     "name": "stdout",
     "output_type": "stream",
     "text": [
      "처리 완료된 Item:  1\n",
      "처리 완료된 Item:  2\n",
      "조건을 만족하는 요소가 있는가? true\n",
      "처리 완료된 Item:  3\n"
     ]
    }
   ],
   "source": [
    "// 각 요소에 대해 수행할 비동기 작업\n",
    "function asyncFunction (item, callback) {\n",
    "    console.log('처리 중인 Item: ', item);\n",
    "    setTimeout(() => {\n",
    "        console.log('처리 완료된 Item: ', item);\n",
    "        callback(null, item > 1); // 1보다 큰 item이 있는지 테스트\n",
    "    }, item * 1000);\n",
    "};\n",
    "\n",
    "// 최종 콜백(opt)\n",
    "function finalCallback (err, results) {\n",
    "    if (err) console.error('오류 발생', err);\n",
    "    else console.log('조건을 만족하는 요소가 있는가?', results);\n",
    "};\n",
    "\n",
    "async.some([3, 2, 1], asyncFunction, finalCallback);"
   ]
  },
  {
   "cell_type": "markdown",
   "metadata": {},
   "source": [
    "반복 요소 중 콜백을 호출하지 않은 케이스"
   ]
  },
  {
   "cell_type": "markdown",
   "metadata": {},
   "source": [
    "1. 반복 요소 중 콜백을 호출하지 않더라도, 다른 반복 요소에 의해 callback true가 되는 경우"
   ]
  },
  {
   "cell_type": "code",
   "execution_count": 7,
   "metadata": {},
   "outputs": [
    {
     "name": "stdout",
     "output_type": "stream",
     "text": [
      "처리 중인 Item:  3\n",
      "처리 중인 Item:  2\n",
      "처리 중인 Item:  1\n"
     ]
    },
    {
     "name": "stdout",
     "output_type": "stream",
     "text": [
      "처리 완료된 Item:  1\n",
      "처리 완료된 Item:  2\n",
      "처리 완료된 Item:  3\n",
      "조건을 만족하는 요소가 있는가? true\n"
     ]
    }
   ],
   "source": [
    "// item > 1의 조건에 대해 item: 2는 콜백을 전달하지 않았지만,\n",
    "// item:3이 item > 1 조건에 대해 true이므로 즉각 최종 콜백을 호출했다. \n",
    "\n",
    "// 각 요소에 대해 수행할 비동기 작업\n",
    "function asyncFunction (item, callback) {\n",
    "    console.log('처리 중인 Item: ', item);\n",
    "    setTimeout(() => {\n",
    "        console.log('처리 완료된 Item: ', item);\n",
    "        if(item !== 2) callback(null, item > 1); // item이 2일 땐 콜백 호출X\n",
    "\n",
    "    }, item * 1000);\n",
    "};\n",
    "\n",
    "// 최종 콜백(opt)\n",
    "function finalCallback (err, results) {\n",
    "    if (err) console.error('오류 발생', err);\n",
    "    else console.log('조건을 만족하는 요소가 있는가?', results);\n",
    "};\n",
    "\n",
    "async.some([3, 2, 1], asyncFunction, finalCallback);"
   ]
  },
  {
   "cell_type": "markdown",
   "metadata": {},
   "source": [
    "2. 반복 요소 중 콜백을 호출하지 않고, 다른 반복 요소에 의해 callback true가 되지 않는 경우"
   ]
  },
  {
   "cell_type": "code",
   "execution_count": 8,
   "metadata": {},
   "outputs": [
    {
     "name": "stdout",
     "output_type": "stream",
     "text": [
      "처리 중인 Item:  3\n",
      "처리 중인 Item:  2\n",
      "처리 중인 Item:  1\n"
     ]
    },
    {
     "name": "stdout",
     "output_type": "stream",
     "text": [
      "처리 완료된 Item:  1\n",
      "처리 완료된 Item:  2\n",
      "처리 완료된 Item:  3\n"
     ]
    }
   ],
   "source": [
    "// item > 1의 조건에 대해 item: 2는 결과를 콜백으로 전달하지 않았고,\n",
    "// 다른 모든 item들은 false를 콜백으로 전달하여, 최종 콜백이 실행되지 않는다.\n",
    "\n",
    "// 각 요소에 대해 수행할 비동기 작업\n",
    "function asyncFunction (item, callback) {\n",
    "    console.log('처리 중인 Item: ', item);\n",
    "    setTimeout(() => {\n",
    "        console.log('처리 완료된 Item: ', item);\n",
    "        if(item !== 2) callback(null, item === 2); // item이 2일 땐 콜백 호출X\n",
    "\n",
    "    }, item * 1000);\n",
    "};\n",
    "\n",
    "// 최종 콜백(opt)\n",
    "function finalCallback (err, results) {\n",
    "    if (err) console.error('오류 발생', err);\n",
    "    else console.log('조건을 만족하는 요소가 있는가?', results);\n",
    "};\n",
    "\n",
    "async.some([3, 2, 1], asyncFunction, finalCallback);"
   ]
  },
  {
   "cell_type": "markdown",
   "metadata": {},
   "source": [
    "비동기 작업 중 에러를 발생시킨 케이스"
   ]
  },
  {
   "cell_type": "code",
   "execution_count": 9,
   "metadata": {},
   "outputs": [
    {
     "name": "stdout",
     "output_type": "stream",
     "text": [
      "처리 중인 Item:  3\n",
      "처리 중인 Item:  2\n",
      "처리 중인 Item:  1\n"
     ]
    },
    {
     "name": "stdout",
     "output_type": "stream",
     "text": [
      "처리 완료된 Item:  1\n",
      "처리 완료된 Item:  2\n"
     ]
    },
    {
     "name": "stderr",
     "output_type": "stream",
     "text": [
      "오류 발생 메시지:  2에서 에러 발생\n"
     ]
    },
    {
     "name": "stdout",
     "output_type": "stream",
     "text": [
      "처리 완료된 Item:  3\n"
     ]
    }
   ],
   "source": [
    "// 에러가 발생한 시점에 최종 콜백 실행\n",
    "\n",
    "// 각 요소에 대해 수행할 비동기 작업\n",
    "function asyncFunction (item, callback) {\n",
    "    console.log('처리 중인 Item: ', item);\n",
    "    setTimeout(() => {\n",
    "        console.log('처리 완료된 Item: ', item);\n",
    "        if(item !== 2) callback(null, item > 1);\n",
    "        else callback(`${item}에서 에러 발생`) // item : 2일 때 에러 발생\n",
    "\n",
    "    }, item * 1000);\n",
    "};\n",
    "\n",
    "// 최종 콜백(opt)\n",
    "function finalCallback (err, results) {\n",
    "    if (err) console.error('오류 발생 메시지: ', err);\n",
    "    else console.log('조건을 만족하는 요소가 있는가?', results);\n",
    "};\n",
    "\n",
    "async.some([3, 2, 1], asyncFunction, finalCallback);"
   ]
  },
  {
   "cell_type": "markdown",
   "metadata": {},
   "source": [
    "### 최종 콜백함수를 사용하지 않는 경우"
   ]
  },
  {
   "cell_type": "markdown",
   "metadata": {},
   "source": [
    "async/await 사용 "
   ]
  },
  {
   "cell_type": "code",
   "execution_count": 6,
   "metadata": {},
   "outputs": [
    {
     "name": "stdout",
     "output_type": "stream",
     "text": [
      "처리 중인 Item:  3\n",
      "처리 중인 Item:  2\n",
      "처리 중인 Item:  1\n"
     ]
    },
    {
     "data": {
      "text/plain": [
       "Promise { <pending> }"
      ]
     },
     "execution_count": 6,
     "metadata": {},
     "output_type": "execute_result"
    },
    {
     "name": "stdout",
     "output_type": "stream",
     "text": [
      "처리 완료된 Item:  1\n",
      "처리 완료된 Item:  2\n",
      "처리 완료된 Item:  3\n",
      "모든 작업 완료: true\n"
     ]
    }
   ],
   "source": [
    "// 각 요소에 대해 수행할 비동기 작업\n",
    "function asyncFunction (item, callback) {\n",
    "    console.log('처리 중인 Item: ', item);\n",
    "    setTimeout(() => {\n",
    "        console.log('처리 완료된 Item: ', item);\n",
    "        callback(null, item > 1);\n",
    "\n",
    "    }, item * 1000);\n",
    "};\n",
    "\n",
    "async function runSomeTasks(){\n",
    "    try{\n",
    "        const result = await async.some([3, 2, 1], asyncFunction);\n",
    "        console.log('모든 작업 완료:', result);\n",
    "    } catch (err) {\n",
    "        console.log('에러 메시지:', err);\n",
    "    }\n",
    "}\n",
    "\n",
    "runSomeTasks();\n",
    "\n"
   ]
  }
 ],
 "metadata": {
  "kernelspec": {
   "display_name": "JavaScript (Node.js)",
   "language": "javascript",
   "name": "javascript"
  },
  "language_info": {
   "file_extension": ".js",
   "mimetype": "application/javascript",
   "name": "javascript",
   "version": "20.10.0"
  }
 },
 "nbformat": 4,
 "nbformat_minor": 2
}
