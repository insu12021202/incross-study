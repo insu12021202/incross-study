{
 "cells": [
  {
   "cell_type": "markdown",
   "metadata": {},
   "source": [
    "# async.parallel()\n",
    "- 각각의 함수를 병렬로 실행시켜, 이전 함수가 완료되기를 기다리지 않는 'tasks'를 실행하는 메소드.\n",
    "- 함수들 중 하나가 콜백에 에러를 전달하면, 메인 콜백은 즉시 에러 값과 함께 호출된다.\n",
    "- 작업이 완료되면, 결과는 배열로 최종 콜백에 전달된다.\n",
    "## 사용 방법\n",
    "- async 모듈 불러오기\n",
    "- async.parallel([비동기 함수 목록], 최종 콜백(옵션))"
   ]
  },
  {
   "cell_type": "code",
   "execution_count": 2,
   "metadata": {},
   "outputs": [],
   "source": [
    "const async = require('async');"
   ]
  },
  {
   "cell_type": "markdown",
   "metadata": {},
   "source": [
    "--------------\n",
    "### 최종 콜백 함수를 사용하는 경우"
   ]
  },
  {
   "cell_type": "markdown",
   "metadata": {},
   "source": [
    "정상 작동 케이스"
   ]
  },
  {
   "cell_type": "code",
   "execution_count": 3,
   "metadata": {},
   "outputs": [
    {
     "name": "stdout",
     "output_type": "stream",
     "text": [
      "두 번째 처리 중\n",
      "세 번째 처리 중\n",
      "첫 번째 처리 중\n",
      "최종 결과: [ '첫 번째 ', '두 번째 ', '세 번째 ' ]\n"
     ]
    }
   ],
   "source": [
    "// tasks가 병렬적으로 실행된다.\n",
    "// results에는 각 비동기 함수의 수행 시간과 상관없이 tasks의 순서대로 결과값이 담긴다.\n",
    "\n",
    "// 비동기 작업들\n",
    "function asyncFirstFunction(callback) {\n",
    "    setTimeout(() => {\n",
    "        console.log('첫 번째 처리 중')\n",
    "        callback(null, '첫 번째 ');\n",
    "    }, 3000);\n",
    "};\n",
    "function asyncSecondFunction (callback) {\n",
    "    setTimeout(() => {\n",
    "        console.log('두 번째 처리 중')\n",
    "        callback(null, '두 번째 ');\n",
    "    }, 1000);\n",
    "};\n",
    "function asyncThirdFunction(callback) {\n",
    "    setTimeout(() => {\n",
    "        console.log('세 번째 처리 중')\n",
    "        callback(null, '세 번째 ');\n",
    "    }, 2000);\n",
    "};\n",
    "\n",
    "// 최종 콜백(opt)\n",
    "function finalCallback(err, result) {\n",
    "    if (err) console.error('오류 발생', err);\n",
    "    else console.log('최종 결과:', result);\n",
    "};\n",
    "\n",
    "async.parallel([asyncFirstFunction, asyncSecondFunction, asyncThirdFunction], finalCallback);"
   ]
  },
  {
   "cell_type": "markdown",
   "metadata": {},
   "source": [
    "비동기 작업 중 콜백을 호출하지 않은 케이스"
   ]
  },
  {
   "cell_type": "code",
   "execution_count": 1,
   "metadata": {},
   "outputs": [
    {
     "ename": "ReferenceError",
     "evalue": "async is not defined",
     "output_type": "error",
     "traceback": [
      "evalmachine.<anonymous>:30",
      "async.parallel([asyncFirstFunction, asyncSecondFunction, asyncThirdFunction], finalCallback);",
      "^",
      "",
      "ReferenceError: async is not defined",
      "    at evalmachine.<anonymous>:30:1",
      "    at Script.runInThisContext (node:vm:121:12)",
      "    at Object.runInThisContext (node:vm:295:38)",
      "    at run ([eval]:1020:15)",
      "    at onRunRequest ([eval]:864:18)",
      "    at onMessage ([eval]:828:13)",
      "    at process.emit (node:events:514:28)",
      "    at emit (node:internal/child_process:951:14)",
      "    at process.processTicksAndRejections (node:internal/process/task_queues:83:21)"
     ]
    }
   ],
   "source": [
    "// tasks가 병렬적으로 실행된다.\n",
    "// 두 번째 요소에서 콜백을 호출하지 않아 최종 콜백도 호출되지 않는다.\n",
    "\n",
    "// 비동기 작업들\n",
    "function asyncFirstFunction(callback) {\n",
    "    setTimeout(() => {\n",
    "        console.log('첫 번째 처리 중')\n",
    "        callback(null, '첫 번째 ');\n",
    "    }, 3000);\n",
    "};\n",
    "function asyncSecondFunction (callback) {\n",
    "    setTimeout(() => {\n",
    "        console.log('두 번째 처리 중')\n",
    "        // callback(null, '두 번째 ');\n",
    "    }, 1000);\n",
    "};\n",
    "function asyncThirdFunction(callback) {\n",
    "    setTimeout(() => {\n",
    "        console.log('세 번째 처리 중')\n",
    "        callback(null, '세 번째 ');\n",
    "    }, 2000);\n",
    "};\n",
    "\n",
    "// 최종 콜백(opt)\n",
    "function finalCallback(err, result) {\n",
    "    if (err) console.error('오류 발생', err);\n",
    "    else console.log('최종 결과:', result);\n",
    "};\n",
    "\n",
    "async.parallel([asyncFirstFunction, asyncSecondFunction, asyncThirdFunction], finalCallback);"
   ]
  },
  {
   "cell_type": "markdown",
   "metadata": {},
   "source": [
    "비동기 작업 중 에러를 발생시킨 케이스"
   ]
  },
  {
   "cell_type": "code",
   "execution_count": 5,
   "metadata": {},
   "outputs": [
    {
     "name": "stdout",
     "output_type": "stream",
     "text": [
      "두 번째 처리 중\n"
     ]
    },
    {
     "name": "stderr",
     "output_type": "stream",
     "text": [
      "오류 발생 메시지:  두 번째에서 에러 발생\n"
     ]
    },
    {
     "name": "stdout",
     "output_type": "stream",
     "text": [
      "세 번째 처리 중\n",
      "첫 번째 처리 중\n"
     ]
    }
   ],
   "source": [
    "// tasks가 병렬적으로 실행된다.\n",
    "// 두 번째 함수에서 에러가 발생해 최종 콜백에 에러가 전달된다.\n",
    "// 최종 콜백 이후, 남아있는 tasks들은 그대로 실행된다.\n",
    "\n",
    "// 비동기 작업들\n",
    "function asyncFirstFunction(callback) {\n",
    "    setTimeout(() => {\n",
    "        console.log('첫 번째 처리 중')\n",
    "        callback(null, '첫 번째 ');\n",
    "    }, 3000);\n",
    "};\n",
    "function asyncSecondFunction (callback) {\n",
    "    setTimeout(() => {\n",
    "        console.log('두 번째 처리 중')\n",
    "        callback('두 번째에서 에러 발생');\n",
    "    }, 1000);\n",
    "};\n",
    "function asyncThirdFunction(callback) {\n",
    "    setTimeout(() => {\n",
    "        console.log('세 번째 처리 중')\n",
    "        callback(null, '세 번째 ');\n",
    "    }, 2000);\n",
    "};\n",
    "\n",
    "// 최종 콜백(opt)\n",
    "function finalCallback(err, result) {\n",
    "    if (err) console.error('오류 발생 메시지: ', err);\n",
    "    else console.log('최종 결과:', result);\n",
    "};\n",
    "\n",
    "async.parallel([asyncFirstFunction, asyncSecondFunction, asyncThirdFunction], finalCallback);"
   ]
  },
  {
   "cell_type": "markdown",
   "metadata": {},
   "source": [
    "### 최종 콜백함수를 사용하지 않는 경우"
   ]
  },
  {
   "cell_type": "markdown",
   "metadata": {},
   "source": [
    "async/await, try/catch를 사용"
   ]
  },
  {
   "cell_type": "code",
   "execution_count": 7,
   "metadata": {},
   "outputs": [
    {
     "data": {
      "text/plain": [
       "Promise { <pending> }"
      ]
     },
     "execution_count": 7,
     "metadata": {},
     "output_type": "execute_result"
    },
    {
     "name": "stdout",
     "output_type": "stream",
     "text": [
      "두 번째 처리 중\n",
      "세 번째 처리 중\n",
      "첫 번째 처리 중\n",
      "모든 작업 완료: [ '첫 번째 ', '두 번째', '세 번째 ' ]\n"
     ]
    }
   ],
   "source": [
    "// 비동기 작업들\n",
    "function asyncFirstFunction(callback) {\n",
    "    setTimeout(() => {\n",
    "        console.log('첫 번째 처리 중')\n",
    "        callback(null, '첫 번째 ');\n",
    "    }, 3000);\n",
    "};\n",
    "function asyncSecondFunction (callback) {\n",
    "    setTimeout(() => {\n",
    "        console.log('두 번째 처리 중')\n",
    "        callback(null, '두 번째');\n",
    "    }, 1000);\n",
    "};\n",
    "function asyncThirdFunction(callback) {\n",
    "    setTimeout(() => {\n",
    "        console.log('세 번째 처리 중')\n",
    "        callback(null, '세 번째 ');\n",
    "    }, 2000);\n",
    "};\n",
    "\n",
    "async function runTasks(){\n",
    "    try {\n",
    "        const results = await async.parallel([\n",
    "            asyncFirstFunction, asyncSecondFunction, asyncThirdFunction\n",
    "        ]);\n",
    "        console.log('모든 작업 완료:', results);\n",
    "    } catch (err) {\n",
    "        console.error('에러 발생: ', err);\n",
    "    }\n",
    "}\n",
    "\n",
    "runTasks();"
   ]
  },
  {
   "cell_type": "markdown",
   "metadata": {},
   "source": [
    "then/catch 사용"
   ]
  },
  {
   "cell_type": "code",
   "execution_count": 9,
   "metadata": {},
   "outputs": [
    {
     "data": {
      "text/plain": [
       "Promise { <pending> }"
      ]
     },
     "execution_count": 9,
     "metadata": {},
     "output_type": "execute_result"
    },
    {
     "name": "stdout",
     "output_type": "stream",
     "text": [
      "두 번째 처리 중\n",
      "세 번째 처리 중\n",
      "첫 번째 처리 중\n",
      "모든 작업 완료: [ '첫 번째 ', '두 번째', '세 번째 ' ]\n"
     ]
    }
   ],
   "source": [
    "// 비동기 작업들\n",
    "function asyncFirstFunction(callback) {\n",
    "    setTimeout(() => {\n",
    "        console.log('첫 번째 처리 중')\n",
    "        callback(null, '첫 번째 ');\n",
    "    }, 3000);\n",
    "};\n",
    "function asyncSecondFunction (callback) {\n",
    "    setTimeout(() => {\n",
    "        console.log('두 번째 처리 중')\n",
    "        callback(null, '두 번째');\n",
    "    }, 1000);\n",
    "};\n",
    "function asyncThirdFunction(callback) {\n",
    "    setTimeout(() => {\n",
    "        console.log('세 번째 처리 중')\n",
    "        callback(null, '세 번째 ');\n",
    "    }, 2000);\n",
    "};\n",
    "\n",
    "async.parallel([asyncFirstFunction, asyncSecondFunction, asyncThirdFunction])\n",
    ".then((results) => console.log('모든 작업 완료:', results))\n",
    ".catch((err) => console.error('에러 메시지:', err));"
   ]
  }
 ],
 "metadata": {
  "kernelspec": {
   "display_name": "JavaScript (Node.js)",
   "language": "javascript",
   "name": "javascript"
  },
  "language_info": {
   "file_extension": ".js",
   "mimetype": "application/javascript",
   "name": "javascript",
   "version": "20.10.0"
  }
 },
 "nbformat": 4,
 "nbformat_minor": 2
}
