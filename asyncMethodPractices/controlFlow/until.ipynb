{
 "cells": [
  {
   "cell_type": "markdown",
   "metadata": {},
   "source": [
    "# async.until()\n",
    "- 주어진 조건이 참이 될 때까지 반복적으로 비동기 함수를 실행하는 함수.\n",
    "## 사용 방법\n",
    "- async 모듈 불러오기\n",
    "- async.until(테스트 함수, 비동기 함수, 최종 콜백(옵션))"
   ]
  },
  {
   "cell_type": "code",
   "execution_count": 1,
   "metadata": {},
   "outputs": [],
   "source": [
    "const async = require('async');\n",
    "let count = 0;"
   ]
  },
  {
   "cell_type": "markdown",
   "metadata": {},
   "source": [
    "--------------\n",
    "### 최종 콜백 함수를 사용하는 경우"
   ]
  },
  {
   "cell_type": "markdown",
   "metadata": {},
   "source": [
    "정상 작동 케이스"
   ]
  },
  {
   "cell_type": "code",
   "execution_count": 3,
   "metadata": {},
   "outputs": [
    {
     "name": "stdout",
     "output_type": "stream",
     "text": [
      "테스트 중 0\n"
     ]
    },
    {
     "name": "stdout",
     "output_type": "stream",
     "text": [
      "count  1\n",
      "테스트 중 1\n",
      "count  2\n",
      "테스트 중 2\n",
      "count  3\n",
      "테스트 중 3\n",
      "count  4\n",
      "테스트 중 4\n",
      "count  5\n",
      "테스트 중 5\n",
      "count  6\n",
      "테스트 중 6\n",
      "최종 결과 6\n"
     ]
    }
   ],
   "source": [
    "// count가 6이 되면 종료하는 테스트 함수\n",
    "function testFunction(callback) {\n",
    "    console.log(`테스트 중 ${count}`);\n",
    "    callback(null, count > 5);\n",
    "}\n",
    "\n",
    "// 비동기적으로 실행할 함수\n",
    "function asyncFunction(callback) {\n",
    "    count++;\n",
    "    setTimeout(() => {\n",
    "        console.log('count ', count);\n",
    "        callback(null, count);\n",
    "    }, 1000);\n",
    "}\n",
    "\n",
    "// 최종 콜백(옵션)\n",
    "function finalCallback(err, result) {\n",
    "    if(err) console.error('오류 메시지: ', err);\n",
    "    else console.log('최종 결과', result);\n",
    "}\n",
    "\n",
    "async.until(testFunction, asyncFunction, finalCallback);"
   ]
  },
  {
   "cell_type": "markdown",
   "metadata": {},
   "source": [
    "비동기 작업 중 콜백을 호출하지 않은 케이스"
   ]
  },
  {
   "cell_type": "code",
   "execution_count": 6,
   "metadata": {},
   "outputs": [
    {
     "name": "stdout",
     "output_type": "stream",
     "text": [
      "테스트 중 0\n"
     ]
    },
    {
     "name": "stdout",
     "output_type": "stream",
     "text": [
      "count  1\n",
      "테스트 중 1\n",
      "count  2\n",
      "테스트 중 2\n",
      "count  3\n"
     ]
    }
   ],
   "source": [
    "// count가 3일 때, 콜백 호출 X\n",
    "// 콜백이 호출되지 않으면 다음 테스트 함수가 실행되지 않는다.\n",
    "\n",
    "count = 0;\n",
    "\n",
    "// count가 6이 되면 종료하는 테스트 함수\n",
    "function testFunction(callback) {\n",
    "    console.log(`테스트 중 ${count}`);\n",
    "    callback(null, count > 5);\n",
    "}\n",
    "\n",
    "// 비동기적으로 실행할 함수\n",
    "function asyncFunction(callback) {\n",
    "    count++;\n",
    "    setTimeout(() => {\n",
    "        console.log('count ', count);\n",
    "        if(count !== 3) callback(null, count);\n",
    "    }, 1000);\n",
    "}\n",
    "\n",
    "// 최종 콜백(옵션)\n",
    "function finalCallback(err, result) {\n",
    "    if(err) console.error('오류 메시지: ', err);\n",
    "    else console.log('최종 결과', result);\n",
    "}\n",
    "\n",
    "async.until(testFunction, asyncFunction, finalCallback);"
   ]
  },
  {
   "cell_type": "markdown",
   "metadata": {},
   "source": [
    "비동기 작업 중 에러를 발생시킨 케이스"
   ]
  },
  {
   "cell_type": "code",
   "execution_count": 7,
   "metadata": {},
   "outputs": [
    {
     "name": "stdout",
     "output_type": "stream",
     "text": [
      "테스트 중 0\n"
     ]
    },
    {
     "name": "stdout",
     "output_type": "stream",
     "text": [
      "count  1\n",
      "테스트 중 1\n",
      "count  2\n",
      "테스트 중 2\n",
      "count  3\n"
     ]
    },
    {
     "name": "stderr",
     "output_type": "stream",
     "text": [
      "오류 메시지:  count: 3에서 오류 발생\n"
     ]
    }
   ],
   "source": [
    "// count가 3일 때 에러 발생\n",
    "\n",
    "count = 0;\n",
    "\n",
    "// count가 6이 되면 종료하는 테스트 함수\n",
    "function testFunction(callback) {\n",
    "    console.log(`테스트 중 ${count}`);\n",
    "    callback(null, count > 5);\n",
    "}\n",
    "\n",
    "// 비동기적으로 실행할 함수\n",
    "function asyncFunction(callback) {\n",
    "    count++;\n",
    "    setTimeout(() => {\n",
    "        console.log('count ', count);\n",
    "        if(count !== 3) callback(null, count);\n",
    "        else callback(`count: ${count}에서 오류 발생`)\n",
    "    }, 1000);\n",
    "}\n",
    "\n",
    "// 최종 콜백(옵션)\n",
    "function finalCallback(err, result) {\n",
    "    if(err) console.error('오류 메시지: ', err);\n",
    "    else console.log('최종 결과', result);\n",
    "}\n",
    "\n",
    "async.until(testFunction, asyncFunction, finalCallback);"
   ]
  },
  {
   "cell_type": "markdown",
   "metadata": {},
   "source": [
    "### 최종 콜백함수를 사용하지 않는 경우"
   ]
  },
  {
   "cell_type": "markdown",
   "metadata": {},
   "source": [
    "async/await 사용 "
   ]
  },
  {
   "cell_type": "code",
   "execution_count": 3,
   "metadata": {},
   "outputs": [
    {
     "name": "stdout",
     "output_type": "stream",
     "text": [
      "테스트 중 0\n"
     ]
    },
    {
     "data": {
      "text/plain": [
       "Promise { <pending> }"
      ]
     },
     "execution_count": 3,
     "metadata": {},
     "output_type": "execute_result"
    },
    {
     "name": "stdout",
     "output_type": "stream",
     "text": [
      "count  1\n",
      "테스트 중 1\n",
      "count  2\n",
      "테스트 중 2\n",
      "count  3\n",
      "테스트 중 3\n",
      "count  4\n",
      "테스트 중 4\n",
      "count  5\n",
      "테스트 중 5\n",
      "count  6\n",
      "테스트 중 6\n",
      "모든 작업 완료: 6\n"
     ]
    }
   ],
   "source": [
    "count = 0;\n",
    "\n",
    "// count가 6이 되면 종료하는 테스트 함수\n",
    "function testFunction(callback) {\n",
    "    console.log(`테스트 중 ${count}`);\n",
    "    callback(null, count > 5);\n",
    "}\n",
    "\n",
    "// 비동기적으로 실행할 함수\n",
    "function asyncFunction(callback) {\n",
    "    count++;\n",
    "    setTimeout(() => {\n",
    "        console.log('count ', count);\n",
    "        callback(null, count);\n",
    "    }, 1000);\n",
    "}\n",
    "\n",
    "async function runUntilTasks(){\n",
    "    try {\n",
    "        const result = await async.until(testFunction, asyncFunction);\n",
    "        console.log('모든 작업 완료:', result);\n",
    "    } catch (err) {\n",
    "        console.error('에러 발생: ', err);\n",
    "    }\n",
    "}\n",
    "\n",
    "runUntilTasks();\n",
    "\n"
   ]
  },
  {
   "cell_type": "markdown",
   "metadata": {},
   "source": [
    "then/catch 사용 "
   ]
  },
  {
   "cell_type": "code",
   "execution_count": 4,
   "metadata": {},
   "outputs": [
    {
     "name": "stdout",
     "output_type": "stream",
     "text": [
      "테스트 중 0\n"
     ]
    },
    {
     "data": {
      "text/plain": [
       "Promise { <pending> }"
      ]
     },
     "execution_count": 4,
     "metadata": {},
     "output_type": "execute_result"
    },
    {
     "name": "stdout",
     "output_type": "stream",
     "text": [
      "count  1\n",
      "테스트 중 1\n",
      "count  2\n",
      "테스트 중 2\n",
      "count  3\n",
      "테스트 중 3\n",
      "count  4\n",
      "테스트 중 4\n",
      "count  5\n",
      "테스트 중 5\n",
      "count  6\n",
      "테스트 중 6\n",
      "모든 작업 완료: 6\n"
     ]
    }
   ],
   "source": [
    "count = 0;\n",
    "\n",
    "// count가 6이 되면 종료하는 테스트 함수\n",
    "function testFunction(callback) {\n",
    "    console.log(`테스트 중 ${count}`);\n",
    "    callback(null, count > 5);\n",
    "}\n",
    "\n",
    "// 비동기적으로 실행할 함수\n",
    "function asyncFunction(callback) {\n",
    "    count++;\n",
    "    setTimeout(() => {\n",
    "        console.log('count ', count);\n",
    "        callback(null, count);\n",
    "    }, 1000);\n",
    "}\n",
    "\n",
    "async.until(testFunction, asyncFunction).then((result) => {\n",
    "    console.log('모든 작업 완료:', result);\n",
    "}).catch((err) => console.error('에러 메시지:', err));\n",
    "\n"
   ]
  }
 ],
 "metadata": {
  "kernelspec": {
   "display_name": "JavaScript (Node.js)",
   "language": "javascript",
   "name": "javascript"
  },
  "language_info": {
   "file_extension": ".js",
   "mimetype": "application/javascript",
   "name": "javascript",
   "version": "20.10.0"
  }
 },
 "nbformat": 4,
 "nbformat_minor": 2
}
