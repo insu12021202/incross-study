{
 "cells": [
  {
   "cell_type": "markdown",
   "metadata": {},
   "source": [
    "# async.waterfall()\n",
    "- 주어진 비동기 함수들을 순차적으로 실행하면서, 각 함수의 결과를 다음 함수로 전달하는 메소드.\n",
    "## 사용 방법\n",
    "- async 모듈 불러오기\n",
    "- async.waterfall([비동기 함수 목록], 최종 콜백(옵션))"
   ]
  },
  {
   "cell_type": "code",
   "execution_count": 1,
   "metadata": {},
   "outputs": [],
   "source": [
    "const async = require('async');"
   ]
  },
  {
   "cell_type": "markdown",
   "metadata": {},
   "source": [
    "--------------\n",
    "### 최종 콜백 함수를 사용하는 경우"
   ]
  },
  {
   "cell_type": "markdown",
   "metadata": {},
   "source": [
    "정상 작동 케이스"
   ]
  },
  {
   "cell_type": "code",
   "execution_count": 3,
   "metadata": {},
   "outputs": [
    {
     "name": "stdout",
     "output_type": "stream",
     "text": [
      "첫 번째 처리 중\n",
      "두 번째 처리 중\n",
      "세 번째 처리 중\n",
      "최종 결과: 첫 번째 두 번째 세 번째 \n"
     ]
    }
   ],
   "source": [
    "// 첫 번째 비동기 함수가 가장 오래 걸림에도 불구하고, 최종 결과가 순차적으로 나왔으니 비동기 작업들이 순차적으로 진행된다는 것을 알 수 있다.\n",
    "\n",
    "// 비동기 작업들\n",
    "function asyncFirstFunction(callback) {\n",
    "    setTimeout(() => {\n",
    "        console.log('첫 번째 처리 중')\n",
    "        callback(null, '첫 번째 ');\n",
    "    }, 3000);\n",
    "};\n",
    "function asyncSecondFunction (arg, callback) {\n",
    "    setTimeout(() => {\n",
    "        console.log('두 번째 처리 중')\n",
    "        callback(null, arg + '두 번째 ');\n",
    "    }, 1000);\n",
    "};\n",
    "function asyncThirdFunction(arg, callback) {\n",
    "    setTimeout(() => {\n",
    "        console.log('세 번째 처리 중')\n",
    "        callback(null, arg + '세 번째 ');\n",
    "    }, 2000);\n",
    "};\n",
    "\n",
    "// 최종 콜백(opt)\n",
    "function finalCallback(err, result) {\n",
    "    if (err) console.error('오류 발생', err);\n",
    "    else console.log('최종 결과:', result);\n",
    "};\n",
    "\n",
    "async.waterfall([asyncFirstFunction, asyncSecondFunction, asyncThirdFunction], finalCallback);"
   ]
  },
  {
   "cell_type": "markdown",
   "metadata": {},
   "source": [
    "비동기 작업 중 콜백을 호출하지 않은 케이스"
   ]
  },
  {
   "cell_type": "code",
   "execution_count": 4,
   "metadata": {},
   "outputs": [
    {
     "name": "stdout",
     "output_type": "stream",
     "text": [
      "첫 번째 처리 중\n",
      "두 번째 처리 중\n"
     ]
    }
   ],
   "source": [
    "// 두 번째 비동기 함수에서 콜백 호출 X\n",
    "// 다음 비동기 함수로 넘어가지 않는다.\n",
    "\n",
    "// 비동기 작업들\n",
    "function asyncFirstFunction(callback) {\n",
    "    setTimeout(() => {\n",
    "        console.log('첫 번째 처리 중')\n",
    "        callback(null, '첫 번째 ');\n",
    "    }, 3000);\n",
    "};\n",
    "function asyncSecondFunction (arg, callback) {\n",
    "    setTimeout(() => {\n",
    "        console.log('두 번째 처리 중')\n",
    "        // callback(null, arg + '두 번째 ');\n",
    "    }, 1000);\n",
    "};\n",
    "function asyncThirdFunction(arg, callback) {\n",
    "    setTimeout(() => {\n",
    "        console.log('세 번째 처리 중')\n",
    "        callback(null, arg + '세 번째 ');\n",
    "    }, 2000);\n",
    "};\n",
    "\n",
    "// 최종 콜백(opt)\n",
    "function finalCallback(err, result) {\n",
    "    if (err) console.error('오류 발생', err);\n",
    "    else console.log('최종 결과:', result);\n",
    "};\n",
    "\n",
    "async.waterfall([asyncFirstFunction, asyncSecondFunction, asyncThirdFunction], finalCallback);"
   ]
  },
  {
   "cell_type": "markdown",
   "metadata": {},
   "source": [
    "비동기 작업 중 에러를 발생시킨 케이스"
   ]
  },
  {
   "cell_type": "code",
   "execution_count": 5,
   "metadata": {},
   "outputs": [
    {
     "name": "stdout",
     "output_type": "stream",
     "text": [
      "첫 번째 처리 중\n",
      "두 번째 처리 중\n"
     ]
    },
    {
     "name": "stderr",
     "output_type": "stream",
     "text": [
      "오류 발생 메시지:  두 번째 함수에서 오류 발생\n"
     ]
    }
   ],
   "source": [
    "// 두 번째 비동기 함수에서 에러 발생\n",
    "// 에러 발생 직후, 최종 콜백에서 에러 핸들링\n",
    "\n",
    "// 비동기 작업들\n",
    "function asyncFirstFunction(callback) {\n",
    "    setTimeout(() => {\n",
    "        console.log('첫 번째 처리 중')\n",
    "        callback(null, '첫 번째 ');\n",
    "    }, 3000);\n",
    "};\n",
    "function asyncSecondFunction (arg, callback) {\n",
    "    setTimeout(() => {\n",
    "        console.log('두 번째 처리 중')\n",
    "        callback('두 번째 함수에서 오류 발생');\n",
    "    }, 1000);\n",
    "};\n",
    "function asyncThirdFunction(arg, callback) {\n",
    "    setTimeout(() => {\n",
    "        console.log('세 번째 처리 중')\n",
    "        callback(null, arg + '세 번째 ');\n",
    "    }, 2000);\n",
    "};\n",
    "\n",
    "// 최종 콜백(opt)\n",
    "function finalCallback(err, result) {\n",
    "    if (err) console.error('오류 발생 메시지: ', err);\n",
    "    else console.log('최종 결과:', result);\n",
    "};\n",
    "\n",
    "async.waterfall([asyncFirstFunction, asyncSecondFunction, asyncThirdFunction], finalCallback);"
   ]
  },
  {
   "cell_type": "markdown",
   "metadata": {},
   "source": [
    "### 최종 콜백함수를 사용하지 않는 경우"
   ]
  },
  {
   "cell_type": "markdown",
   "metadata": {},
   "source": [
    "async/await 사용 "
   ]
  },
  {
   "cell_type": "code",
   "execution_count": 2,
   "metadata": {},
   "outputs": [
    {
     "data": {
      "text/plain": [
       "Promise { <pending> }"
      ]
     },
     "execution_count": 2,
     "metadata": {},
     "output_type": "execute_result"
    },
    {
     "name": "stdout",
     "output_type": "stream",
     "text": [
      "첫 번째 처리 중\n",
      "두 번째 처리 중\n",
      "세 번째 처리 중\n",
      "모든 작업 완료: 첫 번째 두 번째 세 번째 \n"
     ]
    }
   ],
   "source": [
    "// 비동기 작업들\n",
    "function asyncFirstFunction(callback) {\n",
    "    setTimeout(() => {\n",
    "        console.log('첫 번째 처리 중')\n",
    "        callback(null, '첫 번째 ');\n",
    "    }, 3000);\n",
    "};\n",
    "function asyncSecondFunction (arg, callback) {\n",
    "    setTimeout(() => {\n",
    "        console.log('두 번째 처리 중')\n",
    "        callback(null, arg + '두 번째 ');\n",
    "    }, 1000);\n",
    "};\n",
    "function asyncThirdFunction(arg, callback) {\n",
    "    setTimeout(() => {\n",
    "        console.log('세 번째 처리 중')\n",
    "        callback(null, arg + '세 번째 ');\n",
    "    }, 2000);\n",
    "};\n",
    "\n",
    "async function runWaterfallTasks(){\n",
    "    try {\n",
    "        const result = await async.waterfall([\n",
    "            asyncFirstFunction, asyncSecondFunction, asyncThirdFunction\n",
    "        ]);\n",
    "        console.log('모든 작업 완료:', result);\n",
    "    } catch (err) {\n",
    "        console.error('에러 발생: ', err);\n",
    "    }\n",
    "}\n",
    "\n",
    "runWaterfallTasks();\n",
    "\n"
   ]
  },
  {
   "cell_type": "markdown",
   "metadata": {},
   "source": [
    "then/catch 사용 "
   ]
  },
  {
   "cell_type": "code",
   "execution_count": 6,
   "metadata": {},
   "outputs": [
    {
     "data": {
      "text/plain": [
       "Promise { <pending> }"
      ]
     },
     "execution_count": 6,
     "metadata": {},
     "output_type": "execute_result"
    },
    {
     "name": "stdout",
     "output_type": "stream",
     "text": [
      "첫 번째 처리 중\n",
      "두 번째 처리 중\n",
      "세 번째 처리 중\n",
      "모든 작업 완료: 첫 번째 두 번째 세 번째 \n"
     ]
    }
   ],
   "source": [
    "// 비동기 작업들\n",
    "function asyncFirstFunction(callback) {\n",
    "    setTimeout(() => {\n",
    "        console.log('첫 번째 처리 중')\n",
    "        callback(null, '첫 번째 ');\n",
    "    }, 3000);\n",
    "};\n",
    "function asyncSecondFunction (arg, callback) {\n",
    "    setTimeout(() => {\n",
    "        console.log('두 번째 처리 중')\n",
    "        callback(null, arg + '두 번째 ');\n",
    "    }, 1000);\n",
    "};\n",
    "function asyncThirdFunction(arg, callback) {\n",
    "    setTimeout(() => {\n",
    "        console.log('세 번째 처리 중')\n",
    "        callback(null, arg + '세 번째 ');\n",
    "    }, 2000);\n",
    "};\n",
    "\n",
    "async.waterfall([asyncFirstFunction, asyncSecondFunction, asyncThirdFunction]).then((result) => {\n",
    "    console.log('모든 작업 완료:', result);\n",
    " }).catch((err) => console.error('에러 메시지:', err));\n",
    "       \n"
   ]
  }
 ],
 "metadata": {
  "kernelspec": {
   "display_name": "JavaScript (Node.js)",
   "language": "javascript",
   "name": "javascript"
  },
  "language_info": {
   "file_extension": ".js",
   "mimetype": "application/javascript",
   "name": "javascript",
   "version": "20.10.0"
  }
 },
 "nbformat": 4,
 "nbformat_minor": 2
}
