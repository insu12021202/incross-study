{
 "cells": [
  {
   "cell_type": "markdown",
   "metadata": {},
   "source": [
    "# async.retry()\n",
    "- 비동기 작업을 지정된 횟수만큼 재시도한다.\n",
    "- 네트워크 요청이나 파일 I/O 작업과 같이 실패할 가능성이 있는 비동기 작업에 유용하다.\n",
    "- 작업이 성공하거나 지정된 재시도 횟수에 도달할 때까지 반복적으로 작업을 수행한다.\n",
    "## 사용 방법\n",
    "- async 모듈 불러오기\n",
    "- async.retry({times: 재시도 횟수, interval: 재시도 간격}, 비동기 함수, 최종 콜백(옵션))"
   ]
  },
  {
   "cell_type": "code",
   "execution_count": 2,
   "metadata": {},
   "outputs": [],
   "source": [
    "const async = require('async');"
   ]
  },
  {
   "cell_type": "markdown",
   "metadata": {},
   "source": [
    "--------------\n",
    "### 최종 콜백 함수를 사용하는 경우"
   ]
  },
  {
   "cell_type": "markdown",
   "metadata": {},
   "source": [
    "정상 작동 케이스"
   ]
  },
  {
   "cell_type": "code",
   "execution_count": 8,
   "metadata": {},
   "outputs": [
    {
     "name": "stdout",
     "output_type": "stream",
     "text": [
      "시도!\n",
      "성공...\n",
      "작업 결과 성공!\n"
     ]
    }
   ],
   "source": [
    "// 30% 확률로 성공하는 비동기 작업\n",
    "function asyncFunction (callback) {\n",
    "    setTimeout(() => {\n",
    "        console.log('시도!');\n",
    "        const result = Math.random() > 0.7;\n",
    "        if (result) {\n",
    "            console.log('성공...');\n",
    "            callback(null, '성공!');\n",
    "        } else {\n",
    "            console.log('실패...');\n",
    "            callback('실패');\n",
    "        }\n",
    "    }, 1000);\n",
    "};\n",
    "\n",
    "// 최종 콜백(opt)\n",
    "function finalCallback (err, result) {\n",
    "    if (err) console.error('오류 메시지: ', err);\n",
    "    else console.log('작업 결과', result);\n",
    "};\n",
    "\n",
    "async.retry({ times: 3, interval: 200 }, asyncFunction, finalCallback);"
   ]
  },
  {
   "cell_type": "markdown",
   "metadata": {},
   "source": [
    "비동기 작업 중 콜백을 호출하지 않은 케이스"
   ]
  },
  {
   "cell_type": "code",
   "execution_count": 10,
   "metadata": {},
   "outputs": [
    {
     "name": "stdout",
     "output_type": "stream",
     "text": [
      "시도!\n",
      "실패...\n"
     ]
    }
   ],
   "source": [
    "// 재시도 횟수 내에 성공하더라도, 최종 콜백이 실행되지 않는다.\n",
    "\n",
    "// 30% 확률로 성공하는 비동기 작업\n",
    "function asyncFunction (callback) {\n",
    "    setTimeout(() => {\n",
    "        console.log('시도!');\n",
    "        const result = Math.random() > 0.7;\n",
    "        if (result) {\n",
    "            console.log('성공...');\n",
    "            // callback(null, '성공!');\n",
    "        } else {\n",
    "            console.log('실패...');\n",
    "            // callback('실패');\n",
    "        }\n",
    "    }, 1000);\n",
    "};\n",
    "\n",
    "// 최종 콜백(opt)\n",
    "function finalCallback (err, result) {\n",
    "    if (err) console.error('오류 메시지: ', err);\n",
    "    else console.log('작업 결과', result);\n",
    "};\n",
    "\n",
    "async.retry({ times: 3, interval: 200 }, asyncFunction, finalCallback);"
   ]
  },
  {
   "cell_type": "markdown",
   "metadata": {},
   "source": [
    "### 최종 콜백함수를 사용하지 않는 경우"
   ]
  },
  {
   "cell_type": "markdown",
   "metadata": {},
   "source": [
    "async/await 사용 "
   ]
  },
  {
   "cell_type": "code",
   "execution_count": 3,
   "metadata": {},
   "outputs": [
    {
     "data": {
      "text/plain": [
       "Promise { <pending> }"
      ]
     },
     "execution_count": 3,
     "metadata": {},
     "output_type": "execute_result"
    },
    {
     "name": "stdout",
     "output_type": "stream",
     "text": [
      "시도!\n",
      "실패...\n",
      "시도!\n",
      "실패...\n",
      "시도!\n",
      "실패...\n"
     ]
    },
    {
     "name": "stderr",
     "output_type": "stream",
     "text": [
      "에러 발생:  실패\n"
     ]
    }
   ],
   "source": [
    "// 30% 확률로 성공하는 비동기 작업\n",
    "function asyncFunction (callback) {\n",
    "    setTimeout(() => {\n",
    "        console.log('시도!');\n",
    "        const result = Math.random() > 0.7;\n",
    "        if (result) {\n",
    "            console.log('성공...');\n",
    "            callback(null, '성공!');\n",
    "        } else {\n",
    "            console.log('실패...');\n",
    "            callback('실패');\n",
    "        }\n",
    "    }, 1000);\n",
    "};\n",
    "\n",
    "async function runRetryTasks(){\n",
    "    try {\n",
    "        const result = await async.retry({ times: 3, interval: 200 }, asyncFunction);\n",
    "        console.log('모든 작업 완료:', result);\n",
    "    } catch (err) {\n",
    "        console.error('에러 발생: ', err);\n",
    "    }\n",
    "}\n",
    "\n",
    "runRetryTasks();\n"
   ]
  },
  {
   "cell_type": "markdown",
   "metadata": {},
   "source": [
    "then/catch 사용 "
   ]
  },
  {
   "cell_type": "code",
   "execution_count": 3,
   "metadata": {},
   "outputs": [
    {
     "data": {
      "text/plain": [
       "Promise { <pending> }"
      ]
     },
     "execution_count": 3,
     "metadata": {},
     "output_type": "execute_result"
    },
    {
     "name": "stdout",
     "output_type": "stream",
     "text": [
      "시도!\n",
      "실패...\n",
      "시도!\n",
      "성공...\n",
      "모든 작업 완료: 성공!\n"
     ]
    }
   ],
   "source": [
    "// 30% 확률로 성공하는 비동기 작업\n",
    "function asyncFunction (callback) {\n",
    "    setTimeout(() => {\n",
    "        console.log('시도!');\n",
    "        const result = Math.random() > 0.7;\n",
    "        if (result) {\n",
    "            console.log('성공...');\n",
    "            callback(null, '성공!');\n",
    "        } else {\n",
    "            console.log('실패...');\n",
    "            callback('실패');\n",
    "        }\n",
    "    }, 1000);\n",
    "};\n",
    "\n",
    "\n",
    "async.retry({ times: 3, interval: 200 }, asyncFunction).then((result) => {\n",
    "    console.log('모든 작업 완료:', result);\n",
    "}).catch((err) => console.error('오류 메시지:', err))\n",
    "\n",
    "\n"
   ]
  }
 ],
 "metadata": {
  "kernelspec": {
   "display_name": "JavaScript (Node.js)",
   "language": "javascript",
   "name": "javascript"
  },
  "language_info": {
   "file_extension": ".js",
   "mimetype": "application/javascript",
   "name": "javascript",
   "version": "20.10.0"
  }
 },
 "nbformat": 4,
 "nbformat_minor": 2
}
