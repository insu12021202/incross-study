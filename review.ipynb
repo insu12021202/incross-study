{
 "cells": [
  {
   "cell_type": "markdown",
   "metadata": {},
   "source": [
    "# async module 스터디 리뷰\n",
    "- 날짜: 2024/01/11\n",
    "\n",
    "### 테스트 코드 작성 과정\n",
    "1. 최종 콜백 사용 유무\n",
    "    - 최종 콜백을 사용하는 방법 (기본 예제)\n",
    "    - 최종 콜백을 사용하지 않는 방법 (async/await, try/catch 사용)\n",
    "\n",
    "2. 케이스 분기\n",
    "    - 정상 작동 케이스\n",
    "    - 중간 콜백이 하나라도 호출되지 않는 케이스\n",
    "    - 비동기 작업 중 에러를 발생시키는 케이스\n",
    "\n",
    "3. 순차적, 병렬적 메소드 작동 방식 분석\n",
    "    - waterfall vs parallel\n",
    "\n",
    "### 학습한 메소드\n",
    "- collections\n",
    "    1. each\n",
    "    2. filter\n",
    "    3. groupBy\n",
    "    4. map\n",
    "    5. reduce\n",
    "    6. some\n",
    "- controlFlow\n",
    "    1. parallel\n",
    "    2. retry\n",
    "    3. until\n",
    "    4. waterfall"
   ]
  },
  {
   "cell_type": "markdown",
   "metadata": {},
   "source": [
    "-------------------\n",
    "## 정상 작동 케이스"
   ]
  },
  {
   "cell_type": "code",
   "execution_count": 1,
   "metadata": {},
   "outputs": [],
   "source": [
    "const async = require('async');"
   ]
  },
  {
   "cell_type": "markdown",
   "metadata": {},
   "source": [
    "collection - each()"
   ]
  },
  {
   "cell_type": "code",
   "execution_count": 2,
   "metadata": {},
   "outputs": [
    {
     "name": "stdout",
     "output_type": "stream",
     "text": [
      "처리 중인 Item:  3\n",
      "처리 중인 Item:  2\n",
      "처리 중인 Item:  1\n"
     ]
    },
    {
     "name": "stdout",
     "output_type": "stream",
     "text": [
      "처리 완료된 Item:  1\n",
      "처리 완료된 Item:  2\n",
      "처리 완료된 Item:  3\n",
      "모든 항목 처리 완료\n"
     ]
    }
   ],
   "source": [
    "// 정상 작동하는 테스트 케이스\n",
    "// 모든 비동기 함수에서 콜백이 호출되어 최종 콜백이 정상적으로 호출된다.\n",
    "\n",
    "function asyncFunction(item, callback) {\n",
    "    console.log('처리 중인 Item: ', item);\n",
    "    setTimeout(()=>{\n",
    "        console.log('처리 완료된 Item: ', item);\n",
    "        callback(null); \n",
    "    }, item * 1000);\n",
    "}\n",
    "\n",
    "function finalCallback (err) {\n",
    "    if(err) console.error('오류 발생', err);\n",
    "    else console.log('모든 항목 처리 완료');\n",
    "}\n",
    "\n",
    "async.each([3, 2, 1], asyncFunction, finalCallback);"
   ]
  },
  {
   "cell_type": "markdown",
   "metadata": {},
   "source": [
    "controlFlow - parallel()"
   ]
  },
  {
   "cell_type": "code",
   "execution_count": null,
   "metadata": {},
   "outputs": [
    {
     "name": "stdout",
     "output_type": "stream",
     "text": [
      "두 번째 처리 중\n",
      "세 번째 처리 중\n",
      "첫 번째 처리 중\n",
      "최종 결과: [ '첫 번째 ', '두 번째 ', '세 번째 ' ]\n"
     ]
    }
   ],
   "source": [
    "// tasks가 병렬적으로 실행된다.\n",
    "// results에는 각 비동기 함수의 수행 시간과 상관없이 task의 순서대로 결과값이 담긴다.\n",
    "\n",
    "// 비동기 작업들\n",
    "function asyncFirstFunction(callback) {\n",
    "    setTimeout(() => {\n",
    "        console.log('첫 번째 처리 중')\n",
    "        callback(null, '첫 번째 ');\n",
    "    }, 3000);\n",
    "};\n",
    "function asyncSecondFunction (callback) {\n",
    "    setTimeout(() => {\n",
    "        console.log('두 번째 처리 중')\n",
    "        callback(null, '두 번째 ');\n",
    "    }, 1000);\n",
    "};\n",
    "function asyncThirdFunction(callback) {\n",
    "    setTimeout(() => {\n",
    "        console.log('세 번째 처리 중')\n",
    "        callback(null, '세 번째 ');\n",
    "    }, 2000);\n",
    "};\n",
    "\n",
    "// 최종 콜백(opt)\n",
    "function finalCallback(err, result) {\n",
    "    if (err) console.error('오류 발생', err);\n",
    "    else console.log('최종 결과:', result);\n",
    "};\n",
    "\n",
    "async.parallel([asyncFirstFunction, asyncSecondFunction, asyncThirdFunction], finalCallback);"
   ]
  },
  {
   "cell_type": "markdown",
   "metadata": {},
   "source": [
    "--------------\n",
    "## 중간 콜백을 호출하지 않는 케이스"
   ]
  },
  {
   "cell_type": "markdown",
   "metadata": {},
   "source": [
    "collections - filter()"
   ]
  },
  {
   "cell_type": "code",
   "execution_count": 4,
   "metadata": {},
   "outputs": [
    {
     "name": "stdout",
     "output_type": "stream",
     "text": [
      "처리 중인 Item:  4\n",
      "처리 중인 Item:  3\n",
      "처리 중인 Item:  2\n",
      "처리 중인 Item:  1\n"
     ]
    },
    {
     "name": "stdout",
     "output_type": "stream",
     "text": [
      "처리 완료된 Item:  1\n",
      "처리 완료된 Item:  2\n",
      "처리 완료된 Item:  3\n",
      "처리 완료된 Item:  4\n"
     ]
    }
   ],
   "source": [
    "// 두 번째 요소가 콜백을 호출하지 않아 최종 콜백도 실행되지 않는다.\n",
    "\n",
    "// 각 요소에 대해 수행할 비동기 작업\n",
    "function asyncFunction(item, callback) {\n",
    "    console.log('처리 중인 Item: ', item);\n",
    "    setTimeout(() => {\n",
    "        console.log('처리 완료된 Item: ', item);\n",
    "        if(item !== 2) callback(null, item > 2); \n",
    "    }, item * 1000);\n",
    "};\n",
    "\n",
    "// 최종 콜백\n",
    "function finalCallback (err, result) {\n",
    "    if (err) console.error('오류 발생', err);\n",
    "    else console.log('조건을 만족하는 요소', result);\n",
    "};\n",
    "\n",
    "async.filter([4, 3, 2, 1], asyncFunction, finalCallback);"
   ]
  },
  {
   "cell_type": "markdown",
   "metadata": {},
   "source": [
    "controlFlow - retry()"
   ]
  },
  {
   "cell_type": "code",
   "execution_count": 11,
   "metadata": {},
   "outputs": [
    {
     "name": "stdout",
     "output_type": "stream",
     "text": [
      "시도!\n",
      "실패...\n"
     ]
    }
   ],
   "source": [
    "// 중간 콜백이 실행되지 않으면, 다음 작업으로 넘어가지 않는다.\n",
    "\n",
    "// 30% 확률로 성공하는 비동기 작업\n",
    "function asyncFunction (callback) {\n",
    "    setTimeout(() => {\n",
    "        console.log('시도!');\n",
    "        const result = Math.random() > 0.7;\n",
    "        if (result) {\n",
    "            console.log('성공...');\n",
    "            // callback(null, '성공!');\n",
    "        } else {\n",
    "            console.log('실패...');\n",
    "            // callback('실패');\n",
    "        }\n",
    "    }, 1000);\n",
    "};\n",
    "\n",
    "// 최종 콜백(opt)\n",
    "function finalCallback (err, result) {\n",
    "    if (err) console.error('오류 메시지: ', err);\n",
    "    else console.log('작업 결과', result);\n",
    "};\n",
    "\n",
    "async.retry({ times: 3, interval: 200 }, asyncFunction, finalCallback);"
   ]
  },
  {
   "cell_type": "markdown",
   "metadata": {},
   "source": [
    "----------\n",
    "## 비동기 작업 중 에러를 발생시키는 케이스"
   ]
  },
  {
   "cell_type": "markdown",
   "metadata": {},
   "source": [
    "collections - each()"
   ]
  },
  {
   "cell_type": "code",
   "execution_count": 12,
   "metadata": {},
   "outputs": [
    {
     "name": "stdout",
     "output_type": "stream",
     "text": [
      "처리 중인 Item:  3\n",
      "처리 중인 Item:  2\n",
      "처리 중인 Item:  1\n"
     ]
    },
    {
     "name": "stdout",
     "output_type": "stream",
     "text": [
      "처리 완료된 Item:  1\n",
      "처리 완료된 Item:  2\n"
     ]
    },
    {
     "name": "stderr",
     "output_type": "stream",
     "text": [
      "오류 메시지: 2에서 에러 발생\n"
     ]
    },
    {
     "name": "stdout",
     "output_type": "stream",
     "text": [
      "처리 완료된 Item:  3\n"
     ]
    }
   ],
   "source": [
    "// 비동기 작업 중 에러가 발생하는 케이스\n",
    "// 비동기 작업 중 에러를 발생시키면, 에러가 최종 콜백으로 넘겨진다.\n",
    "\n",
    "function asyncFunction(item, callback) {\n",
    "    console.log('처리 중인 Item: ', item);\n",
    "    setTimeout(()=>{\n",
    "        console.log('처리 완료된 Item: ', item);\n",
    "        if(item === 2) callback(`${item}에서 에러 발생`);\n",
    "        else callback(null);\n",
    "    }, item * 1000);\n",
    "}\n",
    "\n",
    "function finalCallback (err) {\n",
    "    if(err) console.error('오류 메시지:', err);\n",
    "    else console.log('모든 항목 처리 완료');\n",
    "}\n",
    "\n",
    "async.each([3, 2, 1], asyncFunction, finalCallback);"
   ]
  },
  {
   "cell_type": "markdown",
   "metadata": {},
   "source": [
    "controlFlow - waterfall()"
   ]
  },
  {
   "cell_type": "code",
   "execution_count": 13,
   "metadata": {},
   "outputs": [
    {
     "name": "stdout",
     "output_type": "stream",
     "text": [
      "첫 번째 처리 중\n",
      "두 번째 처리 중\n"
     ]
    },
    {
     "name": "stderr",
     "output_type": "stream",
     "text": [
      "오류 발생 메시지:  두 번째 함수에서 오류 발생\n"
     ]
    }
   ],
   "source": [
    "// 두 번째 비동기 함수에서 에러 발생\n",
    "// 에러 발생 직후, 최종 콜백에서 에러 핸들링\n",
    "\n",
    "// 비동기 작업들\n",
    "function asyncFirstFunction(callback) {\n",
    "    setTimeout(() => {\n",
    "        console.log('첫 번째 처리 중')\n",
    "        callback(null, '첫 번째 ');\n",
    "    }, 3000);\n",
    "};\n",
    "function asyncSecondFunction (arg, callback) {\n",
    "    setTimeout(() => {\n",
    "        console.log('두 번째 처리 중')\n",
    "        callback('두 번째 함수에서 오류 발생');\n",
    "    }, 1000);\n",
    "};\n",
    "function asyncThirdFunction(arg, callback) {\n",
    "    setTimeout(() => {\n",
    "        console.log('세 번째 처리 중')\n",
    "        callback(null, arg + '세 번째 ');\n",
    "    }, 2000);\n",
    "};\n",
    "\n",
    "// 최종 콜백(opt)\n",
    "function finalCallback(err, result) {\n",
    "    if (err) console.error('오류 발생 메시지: ', err);\n",
    "    else console.log('최종 결과:', result);\n",
    "};\n",
    "\n",
    "async.waterfall([asyncFirstFunction, asyncSecondFunction, asyncThirdFunction], finalCallback);"
   ]
  },
  {
   "cell_type": "markdown",
   "metadata": {},
   "source": [
    "=> 비동기 함수가 병렬적으로 실행되면, 최종 콜백이 호출되더라도 다른 비동기 작업들이 계속 진행된다.\n",
    "\n",
    "=> 비동기 함수가 순차적으로 실행되면, 최종 콜백이 호출되면 다음 비동기 작업이 수행되지 않는다."
   ]
  },
  {
   "cell_type": "markdown",
   "metadata": {},
   "source": [
    "--------\n",
    "## 최종 콜백을 사용하지 않는 방법"
   ]
  },
  {
   "cell_type": "markdown",
   "metadata": {},
   "source": [
    "controlFlow - waterfall()"
   ]
  },
  {
   "cell_type": "markdown",
   "metadata": {},
   "source": [
    "async 라이브러리의 index.ts => async.waterfall\n",
    "\n",
    "```javascript\n",
    "export function waterfall<T>(tasks: Function[]): Promise<T>;\n",
    "export function waterfall<T, E = Error>(tasks: Function[], callback: AsyncResultCallback<T, E>): void;\n",
    "```\n",
    "\n",
    "-> callback 파라미터를 사용하지 않으면, Promise를 반환한다.\n",
    "\n",
    "-> 따라서 최종 콜백을 사용하지 않으면 반환되는 Promise를 처리해주면 된다."
   ]
  },
  {
   "cell_type": "code",
   "execution_count": 14,
   "metadata": {},
   "outputs": [
    {
     "data": {
      "text/plain": [
       "Promise { <pending> }"
      ]
     },
     "execution_count": 14,
     "metadata": {},
     "output_type": "execute_result"
    },
    {
     "name": "stdout",
     "output_type": "stream",
     "text": [
      "첫 번째 처리 중\n",
      "두 번째 처리 중\n",
      "세 번째 처리 중\n",
      "모든 작업 완료: 첫 번째 두 번째 세 번째 \n"
     ]
    }
   ],
   "source": [
    "// async, await 사용\n",
    "// 비동기 작업들\n",
    "function asyncFirstFunction(callback) {\n",
    "    setTimeout(() => {\n",
    "        console.log('첫 번째 처리 중')\n",
    "        callback(null, '첫 번째 ');\n",
    "    }, 3000);\n",
    "};\n",
    "function asyncSecondFunction (arg, callback) {\n",
    "    setTimeout(() => {\n",
    "        console.log('두 번째 처리 중')\n",
    "        callback(null, arg + '두 번째 ');\n",
    "    }, 1000);\n",
    "};\n",
    "function asyncThirdFunction(arg, callback) {\n",
    "    setTimeout(() => {\n",
    "        console.log('세 번째 처리 중')\n",
    "        callback(null, arg + '세 번째 ');\n",
    "    }, 2000);\n",
    "};\n",
    "\n",
    "async function runWaterfallTasks(){\n",
    "    try {\n",
    "        const result = await async.waterfall([\n",
    "            asyncFirstFunction, asyncSecondFunction, asyncThirdFunction\n",
    "        ]);\n",
    "        console.log('모든 작업 완료:', result);\n",
    "    } catch (err) {\n",
    "        console.error('에러 발생: ', err);\n",
    "    }\n",
    "}\n",
    "\n",
    "runWaterfallTasks();"
   ]
  },
  {
   "cell_type": "code",
   "execution_count": 15,
   "metadata": {},
   "outputs": [
    {
     "data": {
      "text/plain": [
       "Promise { <pending> }"
      ]
     },
     "execution_count": 15,
     "metadata": {},
     "output_type": "execute_result"
    },
    {
     "name": "stdout",
     "output_type": "stream",
     "text": [
      "첫 번째 처리 중\n",
      "두 번째 처리 중\n",
      "세 번째 처리 중\n",
      "모든 작업 완료: 첫 번째 두 번째 세 번째 \n"
     ]
    }
   ],
   "source": [
    "// then, catch 사용\n",
    "// 비동기 작업들\n",
    "function asyncFirstFunction(callback) {\n",
    "    setTimeout(() => {\n",
    "        console.log('첫 번째 처리 중')\n",
    "        callback(null, '첫 번째 ');\n",
    "    }, 3000);\n",
    "};\n",
    "function asyncSecondFunction (arg, callback) {\n",
    "    setTimeout(() => {\n",
    "        console.log('두 번째 처리 중')\n",
    "        callback(null, arg + '두 번째 ');\n",
    "    }, 1000);\n",
    "};\n",
    "function asyncThirdFunction(arg, callback) {\n",
    "    setTimeout(() => {\n",
    "        console.log('세 번째 처리 중')\n",
    "        callback(null, arg + '세 번째 ');\n",
    "    }, 2000);\n",
    "};\n",
    "\n",
    "async.waterfall([asyncFirstFunction, asyncSecondFunction, asyncThirdFunction]).then((result) => {\n",
    "    console.log('모든 작업 완료:', result);\n",
    " }).catch((err) => console.error('에러 메시지:', err));       "
   ]
  },
  {
   "cell_type": "markdown",
   "metadata": {},
   "source": [
    "waterfall(순차적) vs parallel(병렬적) 내부적 작동 방식\n",
    "\n",
    "waterfall.js\n",
    "```javascript\n",
    "function waterfall (tasks, callback) {\n",
    "    callback = once(callback);\n",
    "    if (!Array.isArray(tasks)) return callback(new Error('First argument to waterfall must be an array of functions'));\n",
    "    if (!tasks.length) return callback();\n",
    "    var taskIndex = 0;\n",
    "    function nextTask(args) {\n",
    "        var task = wrapAsync(tasks[taskIndex++]);\n",
    "        task(...args, onlyOnce(next));\n",
    "    }\n",
    "    function next(err, ...args) {\n",
    "        if (err === false) return\n",
    "        if (err || taskIndex === tasks.length) {\n",
    "            return callback(err, ...args);\n",
    "        }\n",
    "        nextTask(args);\n",
    "    }\n",
    "    nextTask([]);\n",
    "}\n",
    "export default awaitify(waterfall)\n",
    "```\n",
    "\n",
    "1. task를 wrapAsync로 감싸서 동기식으로 호출할 수 있도록 하고\n",
    "2. task가 완료되면 next를 호출\n",
    "3. next에서는 nextTask를 호출하며 arg를 넘겨준다.\n",
    "4. 만약 next에서 마지막 task를 처리했으면 최종 callback을 return\n",
    "\n",
    "parallel.js\n",
    "```javascript\n",
    "exports.default = (0, _awaitify2.default)((eachfn, tasks, callback) => {\n",
    "    var results = (0, _isArrayLike2.default)(tasks) ? [] : {};\n",
    "\n",
    "    eachfn(tasks, (task, key, taskCb) => {\n",
    "        (0, _wrapAsync2.default)(task)((err, ...result) => {\n",
    "            if (result.length < 2) {\n",
    "                [result] = result;\n",
    "            }\n",
    "            results[key] = result;\n",
    "            taskCb(err);\n",
    "        });\n",
    "    }, err => callback(err, results));\n",
    "}, 3);\n",
    "module.exports = exports.default;\n",
    "```\n",
    "1. eachfn으로 각 task에 대해 실행\n",
    "2. task를 wrapAsync로 감싸 비동기적으로 처리\n",
    "3. results[key] = result를 통해 task의 순서에 맞게 결과를 저장\n",
    "4. 각 작업이 완료되면 taskCb(taskCallback) 호출\n",
    "5. 최종적으로 모든 작업이 완료되거나 에러가 발생하면 callback(err, results) 호출\n"
   ]
  },
  {
   "cell_type": "markdown",
   "metadata": {},
   "source": [
    "### 질문\n",
    "Async 함수를 구현할 때 주로 사용되는 두 함수, wrapAsync와 awaitify의 차이\n",
    " "
   ]
  }
 ],
 "metadata": {
  "kernelspec": {
   "display_name": "JavaScript (Node.js)",
   "language": "javascript",
   "name": "javascript"
  },
  "language_info": {
   "file_extension": ".js",
   "mimetype": "application/javascript",
   "name": "javascript",
   "version": "20.10.0"
  }
 },
 "nbformat": 4,
 "nbformat_minor": 2
}
